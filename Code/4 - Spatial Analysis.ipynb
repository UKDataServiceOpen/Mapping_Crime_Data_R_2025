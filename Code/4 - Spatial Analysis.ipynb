{
    "cells": [
        {
            "cell_type": "markdown",
            "metadata": {},
            "source": "\n"
        },
        {
            "cell_type": "code",
            "execution_count": null,
            "metadata": {},
            "outputs": [],
            "source": [
                "knitr::opts_chunk$set(echo = TRUE, eval = TRUE)\n",
                "\n"
            ]
        },
        {
            "cell_type": "markdown",
            "metadata": {},
            "source": [
                "## Intro \n",
                "\n",
                "In this final section I will demonstrate how to run spatial interpolation (which is the process pf using points with known values to estimate values at other unknown points). We will then move on to creating heat maps in both GGPLOT2 and Leaflet. La\n",
                "\n",
                "## Load packages\n",
                "\n",
                "As always the first step is to load the necessary R packages via the library function. If you do not have these packages installed then please follow the instructions in the *Preliminary Task.Rmd* file. \n",
                "\n",
                "## Load Packages\n"
            ]
        },
        {
            "cell_type": "code",
            "execution_count": null,
            "metadata": {},
            "outputs": [],
            "source": [
                "# for data reading/manipulation \n",
                "library(dplyr)\n",
                "library(tidyr)\n",
                "library(readr)\n",
                "library(tibble)\n",
                "library(janitor)\n",
                "library(readxl)\n",
                "# for spatial data and gis\n",
                "library(sf)\n",
                "library(ggmap)\n",
                "library(ggplot2)\n",
                "library(ggspatial)\n",
                "library(spdep)\n",
                "library(leaflet) \n",
                "library(RColorBrewer)\n",
                "library(tmap)\n"
            ]
        },
        {
            "cell_type": "markdown",
            "metadata": {},
            "source": [
                "## Spatial Interpolation \n",
                "\n",
                "Spatial interpolation is a statistical technique used to predict or estimate values at unsampled locations within an area covered by existing observations. It's based on the principle that spatially or temporally close points tend to have similar values—a concept known as spatial autocorrelation. In the context of crime data, spatial interpolation can be particularly useful for several reasons:\n",
                "\n",
                "*1. Fill Gaps: Estimate crime rates in areas where data are missing or not collected, providing a more complete spatial representation of crime.\n",
                "*2. Smooth Crime Rates: Generate continuous surfaces of crime rates or risk across a geographic area, helping to identify hotspots and patterns that might not be evident from discrete data points alone.\n",
                "*3. Resource Allocation: Inform law enforcement and public safety officials about potential areas of increased crime activity, aiding in strategic planning and resource allocation.\n",
                "*4. Public Information: Provide communities with detailed maps of crime risk, enhancing awareness and preventive measures.\n",
                "\n",
                "Lets explore our data. \n"
            ]
        },
        {
            "cell_type": "code",
            "execution_count": null,
            "metadata": {},
            "outputs": [],
            "source": [
                "# crime <- read_csv(\"/Users/user/Documents/Mapping_Crime_Data_R_2025/Data/crime_data/2024-02/2024-02-surrey-street.csv\") %>% janitor::clean_names()\n",
                "# \n",
                "# summary(crime)\n",
                "\n",
                "url <- \"https://raw.githubusercontent.com/UKDataServiceOpen/Mapping_Crime_Data_R_2025/main/Data/crime_data/2024-02/2024-02-surrey-street.csv\"\n",
                "crime <- read_csv(url) %>% janitor::clean_names()\n"
            ]
        },
        {
            "cell_type": "markdown",
            "metadata": {},
            "source": [
                "We know that there are 6806 observations overall, but what about just for Surrey Heath which is a boundary area within the county of Surrey. \n",
                "\n",
                "We can use filter only those crimes that have taken place in Surrey Heath by using the dplyr and stringr packages\n"
            ]
        },
        {
            "cell_type": "code",
            "execution_count": null,
            "metadata": {},
            "outputs": [],
            "source": [
                "library(stringr)\n",
                "surrey_heath_crimes <- crime %>%\n",
                "  filter(str_detect(lsoa_name, \"^Surrey Heath\"))\n",
                "\n",
                "# Explore the filtered dataset\n",
                "head(surrey_heath_crimes)\n",
                "summary(surrey_heath_crimes)\n"
            ]
        },
        {
            "cell_type": "markdown",
            "metadata": {},
            "source": [
                "This code filters the original crime dataset to keep only the records associated with LSOAs in the Surrey Heath area, based on the naming convention in the lsoa_name column, and stores this subset of data in a new variable for further analysis or operations.\n",
                "\n",
                "We can now see that there are 464 observations, that is individual crime counts, across the boundry area of Surrey Heath. \n",
                "\n",
                "We know need to group these individual crime counts by lsoas in order to obtain the aggregated statistics. This has been repeated in multiple sections so I won't expand too much here. We will create this into a new object named 'cleaned_crimes_grouped_by_lsoas' \n"
            ]
        },
        {
            "cell_type": "code",
            "execution_count": null,
            "metadata": {},
            "outputs": [],
            "source": [
                "cleaned_crimes_grouped_by_lsoa <- surrey_heath_crimes %>%\n",
                "  group_by(lsoa_code) %>%\n",
                "  summarise(count = n())\n",
                "\n",
                "# View the count of crimes by type\n",
                "cleaned_crimes_grouped_by_lsoa\n"
            ]
        },
        {
            "cell_type": "markdown",
            "metadata": {},
            "source": [
                "So what can we see? Well there are now 52 observations, in this case representing the number of LSOAs in Surrey Heath. However, if we compare this to our Shapefile of Surrey Heath, there are 55 observations which tells us there are three missing LSOAs. \n",
                "\n",
                "We can run a spatial interpolation to account for this by estimating the missing crime counts based on the average of neighboring LSOAs. \n",
                "\n",
                "Lets first identify the missing LSOA in the crime data set. We can use the setdiff() function from base R to do so...\n"
            ]
        },
        {
            "cell_type": "code",
            "execution_count": null,
            "metadata": {},
            "outputs": [],
            "source": [
                "missing_lsoas <- setdiff(shp_file$lsoa21cd, cleaned_crimes_grouped_by_lsoa$lsoa_code)\n",
                "\n"
            ]
        },
        {
            "cell_type": "markdown",
            "metadata": {},
            "source": [
                "There we go! We have identified the missing LSOA are \"E01030810\" \"E01030790\" \"E01030771\" \n",
                "In order to now run the spatial interpolation on the average of neighboring LSOAs, spatial visualization is required in order to understand if these LSOA does in fact have any neighboring LSOAs to establish a mean. This is because if the LSOA does not have any neighboring areas, we will not be able to establish a mean and therefore estimate a crime count value.\n",
                "\n",
                "We can first establish a list of neighbors where each element corresponds to a LSOA within the shapefile (shp_file) and contains the indices of neighboring LSOAS.\n"
            ]
        },
        {
            "cell_type": "code",
            "execution_count": null,
            "metadata": {},
            "outputs": [],
            "source": [
                "neighbors <- st_touches(shp_file, shp_file)\n",
                "\n"
            ]
        },
        {
            "cell_type": "markdown",
            "metadata": {},
            "source": [
                "This allows to now identify the LSOAs with no neighbors. This line uses sapply() to apply a function to each element of the neighbors list. The function checks if the length of each element (list of neighbor indices) is 0, which would indicate that an LSOA has no neighbors.\n",
                "\n"
            ]
        },
        {
            "cell_type": "code",
            "execution_count": null,
            "metadata": {},
            "outputs": [],
            "source": [
                "# Identify LSOAs with no neighbors\n",
                "no_neighbors <- sapply(neighbors, function(x) length(x) == 0)\n"
            ]
        },
        {
            "cell_type": "markdown",
            "metadata": {},
            "source": [
                "We then want to extract the indices (or IDs) of LSOAs with no neighbors and then extract the corresponding LSOAS. \n",
                "\n"
            ]
        },
        {
            "cell_type": "code",
            "execution_count": null,
            "metadata": {},
            "outputs": [],
            "source": [
                "# Extract the indices or IDs of LSOAs with no neighbors\n",
                "lsoas_no_neighbors <- which(no_neighbors)\n",
                "\n",
                "# Extract the corresponding LSOA codes or IDs\n",
                "lsoas_with_no_neighbors <- shp_file$lsoa_code[lsoas_no_neighbors]\n"
            ]
        },
        {
            "cell_type": "markdown",
            "metadata": {},
            "source": [
                "If lsoas_with_no_neighbors is empty, all LSOAs have at least one neighbor. If lsoas_with_no_neighbors contains LSOA codes or IDs, these are the LSOAs with no neighboring LSOAs within your dataset.\n",
                "\n",
                "This would mean that we know that the LSOA does in fact have neighboring areas and therefore we can run some calculations on our neighboring areas to interpolate that missing value. For each missing LSOA, we need to find neighboring LSOAs and calculate the average crime count. \n",
                "\n",
                "This function iterates over a list of LSOAs (missing_lsoas) that lack crime data. For each missing LSOA, it:\n",
                "\n",
                "*Identifies neighboring LSOAs that share a boundary with it.\n",
                "*Gathers crime counts from these neighboring LSOAs.\n",
                "*Calculates the average crime count from these neighbors.\n",
                "*Rounds this average to the nearest whole number.\n",
                "*Prints out this average for verification.\n",
                "*If the average crime count is not calculated properly (e.g., it's NA or 0), it sets a default value of 1.\n",
                "*Finally, it adds this calculated average crime count back into the dataset for the missing LSOA, effectively estimating the crime count for areas where it was originally missing\n",
                "\n",
                "This process helps fill in gaps in the dataset, ensuring each LSOA has a crime count value, which is crucial for comprehensive spatial analysis.\n"
            ]
        },
        {
            "cell_type": "code",
            "execution_count": null,
            "metadata": {},
            "outputs": [],
            "source": [
                "for(missing_lsoa in missing_lsoas) {\n",
                "    neighbors_indices <- st_touches(shp_file[shp_file$lsoa21cd == missing_lsoa, , drop = FALSE], shp_file)[[1]]\n",
                "    neighbor_lsoas <- shp_file$lsoa21cd[neighbors_indices]\n",
                "\n",
                "    # Extracting crime counts for neighboring LSOAs\n",
                "    neighbor_crime_counts <- cleaned_crimes_grouped_by_lsoa %>% \n",
                "                             filter(lsoa_code %in% neighbor_lsoas) %>%\n",
                "                             pull(count) # Use pull to extract the 'count' column as a vector\n",
                "\n",
                "    # Calculating the average crime count\n",
                "    avg_crime_count <- mean(neighbor_crime_counts, na.rm = TRUE)\n",
                "    \n",
                "    # Round the average to the nearest whole number\n",
                "    avg_crime_count_rounded <- round(avg_crime_count)\n",
                "\n",
                "    # Debug: print the average crime count to verify\n",
                "    print(paste(\"Average crime count for missing LSOA\", missing_lsoa, \":\", avg_crime_count))\n",
                "\n",
                "    # Check if avg_crime_count is not calculated properly\n",
                "    if(is.na(avg_crime_count) || avg_crime_count == 0) {\n",
                "      # Apply a different strategy or set a default value other than 0 if that makes sense in your context\n",
                "      avg_crime_count <- 1 # Example: setting a default value if mean calculation fails\n",
                "    }\n",
                "\n",
                "    # Update the dataset with the calculated average for the missing LSOA\n",
                "    cleaned_crimes_grouped_by_lsoa <- rbind(cleaned_crimes_grouped_by_lsoa, data.frame(lsoa_code = missing_lsoa, count = avg_crime_count_rounded))\n",
                "}\n",
                "\n",
                "\n",
                "class(cleaned_crimes_grouped_by_lsoa)\n"
            ]
        },
        {
            "cell_type": "markdown",
            "metadata": {},
            "source": [
                "Did you notice how the object 'cleaned_crimes_grouped_by_lsoas' has now changed from 52 observations to 55 observations. Lets see whats happened with that missing LSOA\n",
                "\n"
            ]
        },
        {
            "cell_type": "code",
            "execution_count": null,
            "metadata": {},
            "outputs": [],
            "source": [
                "cleaned_crimes_grouped_by_lsoa[55, ]\n",
                "\n"
            ]
        },
        {
            "cell_type": "markdown",
            "metadata": {},
            "source": [
                "Lets compare the previous surrey_lsoa (with the misssing lsoa data) and the surrey_lsoa_new (no missing lsoa data). Lets look at how these might be different both statistically and visually: \n",
                "\n"
            ]
        },
        {
            "cell_type": "code",
            "execution_count": null,
            "metadata": {},
            "outputs": [],
            "source": [
                "# Ensure both datasets are spatially joined to the original shapefile\n",
                "surrey_lsoa <- left_join(shp_file, crimes_grouped_by_lsoa, by = c(\"lsoa21cd\" = \"lsoa_code\"))\n",
                "surrey_lsoa_new <- left_join(shp_file, cleaned_crimes_grouped_by_lsoa, by = c(\"lsoa21cd\" = \"lsoa_code\"))\n"
            ]
        },
        {
            "cell_type": "markdown",
            "metadata": {},
            "source": [
                "\n",
                "\n"
            ]
        },
        {
            "cell_type": "code",
            "execution_count": null,
            "metadata": {},
            "outputs": [],
            "source": [
                "# Statistically Compare \n",
                "mean_original <- mean(surrey_lsoa$count, na.rm = TRUE)\n",
                "mean_imputed <- mean(surrey_lsoa_new$count)\n",
                "\n",
                "median_original <- median(surrey_lsoa$count, na.rm = TRUE)\n",
                "median_imputed <- median(surrey_lsoa_new$count)\n",
                "\n",
                "# Print the results\n",
                "cat(\"Mean Crime Count - Original Data (with missing):\", mean_original, \"\\n\")\n",
                "cat(\"Mean Crime Count - Imputed Data (no missing):\", mean_imputed, \"\\n\\n\")\n",
                "\n",
                "cat(\"Median Crime Count - Original Data (with missing):\", median_original, \"\\n\")\n",
                "cat(\"Median Crime Count - Imputed Data (no missing):\", median_imputed, \"\\n\")\n"
            ]
        },
        {
            "cell_type": "markdown",
            "metadata": {},
            "source": [
                "\n",
                "\n"
            ]
        },
        {
            "cell_type": "code",
            "execution_count": null,
            "metadata": {},
            "outputs": [],
            "source": [
                "# Visually Compare\n",
                "# Plotting the original dataset with missing value\n",
                "ggplot() +\n",
                "  geom_sf(data = surrey_lsoa, aes(fill = count), color = NA) +\n",
                "  scale_fill_viridis_c(option = \"plasma\", na.value = \"grey\", guide = guide_legend(title = \"Crime Count\")) +\n",
                "  ggtitle(\"Original Data with Missing LSOA Crime Count\") +\n",
                "  theme_minimal()\n",
                "\n",
                "# Plotting the dataset with imputed value\n",
                "ggplot() +\n",
                "  geom_sf(data = surrey_lsoa_new, aes(fill = count), color = NA) +\n",
                "  scale_fill_viridis_c(option = \"plasma\", guide = guide_legend(title = \"Crime Count\")) +\n",
                "  ggtitle(\"Imputed Data with No Missing LSOA Crime Count\") +\n",
                "  theme_minimal()\n"
            ]
        },
        {
            "cell_type": "markdown",
            "metadata": {},
            "source": [
                "## Heat Maps \n",
                "\n",
                "As I'm specifically interested in creating heatmaps of ASB across surrey heath, there is a little bit of data preparation needed. The steps are just repeated from above but they can be summarised as such:\n",
                "\n",
                "*1) filter for asb within the crime dataframe (and within surrey heath, although this is not necessary as the shapefile is from surrey heath, but i want to impute some missing values before hand) \n",
                "*2) group by lsoa and summarise the counts\n",
                "*3) find the missing lsoas\n",
                "*4) impute the missing values for the lsoas\n",
                "*5) left_join to the shapefile\n"
            ]
        },
        {
            "cell_type": "code",
            "execution_count": null,
            "metadata": {},
            "outputs": [],
            "source": [
                "# Filter for ASB within Surry Heath\n",
                "asb_data <- crime %>%\n",
                "  filter(crime_type == \"Anti-social behaviour\") %>% \n",
                "  filter(str_detect(lsoa_name, \"^Surrey Heath\"))\n",
                "\n",
                "# Group by LSOA and summarise the counts\n",
                "asb_grouped_by_lsoa <- asb_data %>%\n",
                "  group_by(lsoa_code) %>%\n",
                "  summarise(count=n())\n",
                "\n",
                "# Find the missing LSOAs\n",
                "missing_lsoas <- setdiff(shp_file$lsoa21cd, asb_grouped_by_lsoa$lsoa_code)\n",
                "\n",
                "# Impute the missing values \n",
                "for(missing_lsoa in missing_lsoas) {\n",
                "    neighbors_indices <- st_touches(shp_file[shp_file$lsoa21cd == missing_lsoa, , drop = FALSE], shp_file)[[1]]\n",
                "    neighbor_lsoas <- shp_file$lsoa21cd[neighbors_indices]\n",
                "\n",
                "    # Extracting crime counts for neighboring LSOAs\n",
                "    neighbor_crime_counts <- asb_grouped_by_lsoa %>% \n",
                "                             filter(lsoa_code %in% neighbor_lsoas) %>%\n",
                "                             pull(count) # Use pull to extract the 'count' column as a vector\n",
                "\n",
                "    # Calculating the average crime count\n",
                "    avg_crime_count <- mean(neighbor_crime_counts, na.rm = TRUE)\n",
                "    \n",
                "    # Round the average to the nearest whole number\n",
                "    avg_crime_count_rounded <- round(avg_crime_count)\n",
                "\n",
                "    # Debug: print the average crime count to verify\n",
                "    print(paste(\"Average crime count for missing LSOA\", missing_lsoa, \":\", avg_crime_count))\n",
                "\n",
                "    # Check if avg_crime_count is not calculated properly\n",
                "    if(is.na(avg_crime_count) || avg_crime_count == 0) {\n",
                "      # Apply a different strategy or set a default value other than 0 if that makes sense in your context\n",
                "      avg_crime_count <- 1 # Example: setting a default value if mean calculation fails\n",
                "    }\n",
                "\n",
                "    # Update the dataset with the calculated average for the missing LSOA\n",
                "    asb_grouped_by_lsoa <- rbind(asb_grouped_by_lsoa, data.frame(lsoa_code = missing_lsoa, count = avg_crime_count_rounded))\n",
                "}\n",
                "\n",
                "# Left_join the now cleaned data back into the shapefile\n",
                "asb_lsoa <- left_join(shp_file, asb_grouped_by_lsoa, by = c(\"lsoa21cd\" = \"lsoa_code\"))\n"
            ]
        },
        {
            "cell_type": "markdown",
            "metadata": {},
            "source": [
                "### Using GGPPLOT2\n",
                "\n",
                "This ggplot code snippet creates a heat map visualizing the distribution of ASB incidents across LSOAs. The use of the magma color palette from viridis ensures that the visualization is both attractive and perceptually accurate, enabling viewers to easily see where ASB incidents are more or less concentrated. \n"
            ]
        },
        {
            "cell_type": "code",
            "execution_count": null,
            "metadata": {},
            "outputs": [],
            "source": [
                "ggplot(data = asb_lsoa) +\n",
                "  geom_sf(aes(fill = count), color = NA) + # geom_sf plots the spatial data, fill controls the color based on ASB count\n",
                "  scale_fill_viridis_c(option = \"magma\", direction = -1, na.value = \"white\", \n",
                "                       guide = guide_colorbar(title = \"ASB Count\")) + # Adjusts the color scale\n",
                "  labs(title = \"ASB Incidents by LSOA\", \n",
                "       subtitle = \"Visualised using ggplot2\") + \n",
                "  theme_minimal()\n"
            ]
        },
        {
            "cell_type": "markdown",
            "metadata": {},
            "source": [
                "### Using leaflet\n",
                "\n",
                "\n",
                "This code snippet creates an interactive map using the leaflet package in R to visualize Anti-Social Behaviour (ASB) incidents across Lower Super Output Areas (LSOAs) based on the asb_lsoa dataset. The dataset is expected to be an sf object containing geometries for each LSOA and a count variable representing the number of ASB incidents in each area\n"
            ]
        },
        {
            "cell_type": "code",
            "execution_count": null,
            "metadata": {},
            "outputs": [],
            "source": [
                "# Define a color palette function based on the 'count' column\n",
                "colorPalette <- colorNumeric(palette = \"viridis\", domain = asb_lsoa$count, na.color = \"transparent\")\n",
                "\n",
                "# Create the Leaflet map\n",
                "leaflet(asb_lsoa) %>%\n",
                "  addProviderTiles(providers$CartoDB.Positron) %>% # Adds a light-themed base map\n",
                "  addPolygons(\n",
                "    fillColor = ~colorPalette(count), # Apply the color based on the 'count' column\n",
                "    weight = 1, # Border weight\n",
                "    opacity = 1, # Border opacity\n",
                "    color = \"white\", # Border color\n",
                "    fillOpacity = 0.7, # Fill opacity\n",
                "    popup = ~paste0(\"LSOA: \", lsoa21cd, \"<br>Count: \", count) # Popup content\n",
                "  ) %>%\n",
                "  addLegend(\"bottomright\", pal = colorPalette, values = ~count,\n",
                "            title = \"ASB Counts\",\n",
                "            opacity = 1)\n",
                "\n",
                "asb_lsoa <- st_transform(asb_lsoa, 4326)\n"
            ]
        },
        {
            "cell_type": "markdown",
            "metadata": {},
            "source": [
                "## Time Series Analysis \n",
                "\n",
                "After completing our spatial interpolation, we now shift our focus to analyzing trends over time for Anti-Social Behaviour (ASB) incidents across Surrey Heath.\n",
                "\n",
                "Crime patterns are rarely static, and time series analysis helps us:\n",
                "✔ Identify trends – Are ASB incidents increasing or decreasing?\n",
                "✔ Detect seasonal patterns – Do incidents peak in certain months?\n",
                "✔ Compare variations across LSOAs – Are some areas more volatile than others?\n",
                "\n",
                "What We Will Do\n",
                "In this section, we will:\n",
                "1️⃣ Load and process 12 months of ASB data dynamically.\n",
                "2️⃣ Visualize ASB trends per LSOA (messy but insightful).\n",
                "3️⃣ Aggregate ASB trends across all LSOAs for a clearer picture.\n",
                "4️⃣ Apply a rolling average to smooth fluctuations and highlight long-term trends.\n",
                "\n",
                "By the end of this section, we will have a comprehensive understanding of how ASB incidents evolve over time and how we can use temporal patterns to inform crime prevention strategies.\n",
                "\n",
                "\n",
                "### Load & Process ASB Crime Data  \n",
                "We dynamically load **12 months of crime data** from the `Data/crime_data` directory.\n"
            ]
        },
        {
            "cell_type": "code",
            "execution_count": null,
            "metadata": {},
            "outputs": [],
            "source": [
                "# Define path to the crime data folder\n",
                "#crime_data_path <- \"Data/crime_data\"\n",
                "# crime_data_path <- \"/Users/user/Documents/Mapping_Crime_Data_R_2025/Data/crime_data\"\n",
                "# \n",
                "# # List all monthly folders dynamically (last 12 months)\n",
                "# monthly_folders <- dir_ls(crime_data_path, type = \"directory\") %>% tail(12)\n",
                "# \n",
                "# # Function to read each month's crime data\n",
                "# read_crime_data <- function(folder) {\n",
                "#   file_path <- dir_ls(folder, regexp = \"surrey-street.csv$\")\n",
                "#   read_csv(file_path) %>%\n",
                "#     clean_names() %>%\n",
                "#     mutate(month = basename(folder)) # Extract folder name as new column\n",
                "# }\n",
                "# \n",
                "# # Read all crime data from the last 12 months\n",
                "# all_crime_data <- map_dfr(monthly_folders, read_crime_data)\n",
                "\n",
                "##\n",
                "library(tidyverse)\n",
                "library(fs)\n",
                "library(janitor)\n",
                "\n",
                "# Define base GitHub URL\n",
                "github_base <- \"https://raw.githubusercontent.com/UKDataServiceOpen/Mapping_Crime_Data_R_2025/main/Data/crime_data\"\n",
                "\n",
                "# List last 12 months (update as needed)\n",
                "months <- format(seq(Sys.Date(), by = \"-1 month\", length.out = 12), \"%Y-%m\")\n",
                "\n",
                "# Function to download and read each month's crime data\n",
                "read_crime_data <- function(month) {\n",
                "  file_url <- paste0(github_base, \"/\", month, \"/\", month, \"-surrey-street.csv\")\n",
                "  \n",
                "  # Temporary file to store downloaded data\n",
                "  temp_file <- tempfile(fileext = \".csv\")\n",
                "  \n",
                "  # Download the file\n",
                "  download.file(file_url, temp_file, mode = \"wb\")\n",
                "  \n",
                "  # Read the CSV file\n",
                "  read_csv(temp_file) %>%\n",
                "    clean_names() %>%\n",
                "    mutate(month = month) # Add month as a column\n",
                "}\n",
                "\n",
                "# Read and merge all crime data from the last 12 months\n",
                "all_crime_data <- map_dfr(months, possibly(read_crime_data, NULL))\n",
                "\n",
                "# View dataset\n",
                "head(all_crime_data)\n"
            ]
        },
        {
            "cell_type": "markdown",
            "metadata": {},
            "source": [
                "---\n",
                "\n",
                "### Filter & Aggregate ASB Crimes  \n",
                "We filter for **Anti-Social Behaviour** incidents in **Surrey Heath** and aggregate by **LSOA & Month**.\n"
            ]
        },
        {
            "cell_type": "code",
            "execution_count": null,
            "metadata": {},
            "outputs": [],
            "source": [
                "# Filter for ASB crimes in Surrey Heath\n",
                "asb_crime_data <- all_crime_data %>%\n",
                "  filter(crime_type == \"Anti-social behaviour\") %>%\n",
                "  filter(str_detect(lsoa_name, \"^Surrey Heath\"))\n",
                "\n",
                "# Aggregate by LSOA and Month\n",
                "asb_grouped_by_lsoa <- asb_crime_data %>%\n",
                "  mutate(year = substr(month, 1, 4), month = substr(month, 6, 7)) %>%\n",
                "  group_by(lsoa_code, year, month) %>%\n",
                "  summarise(count = n(), .groups = \"drop\") %>%\n",
                "  arrange(lsoa_code, year, month)\n",
                "\n",
                "# Create a date column for time series plotting\n",
                "asb_grouped_by_lsoa <- asb_grouped_by_lsoa %>%\n",
                "  mutate(date = as.Date(paste(year, month, \"01\", sep = \"-\")))\n"
            ]
        },
        {
            "cell_type": "markdown",
            "metadata": {},
            "source": [
                "---\n",
                " \n",
                "### **1. Individual LSOA ASB Trends** (*Messy but insightful*)  \n",
                "Each line represents a different LSOA.\n"
            ]
        },
        {
            "cell_type": "code",
            "execution_count": null,
            "metadata": {},
            "outputs": [],
            "source": [
                "# Plot individual LSOA trends\n",
                "ggplot(asb_grouped_by_lsoa, aes(x = date, y = count, group = lsoa_code)) +\n",
                "  geom_line(alpha = 0.3, color = \"gray\") +  # Faint individual lines\n",
                "  geom_smooth(method = \"loess\", se = FALSE, color = \"blue\", size = 1.2) +  # Trend line\n",
                "  labs(title = \"ASB Trends Over Time (Per LSOA)\",\n",
                "       x = \"Month\", y = \"Number of ASB Incidents\") +\n",
                "  theme_minimal()\n"
            ]
        },
        {
            "cell_type": "markdown",
            "metadata": {},
            "source": [
                "---\n",
                "\n",
                "### **2. Aggregated ASB Trends** (*Cleaner and more readable*)  \n",
                "We sum ASB counts across **all LSOAs** per month.\n"
            ]
        },
        {
            "cell_type": "code",
            "execution_count": null,
            "metadata": {},
            "outputs": [],
            "source": [
                "# Aggregate ASB count by month\n",
                "asb_trend <- asb_grouped_by_lsoa %>%\n",
                "  group_by(date) %>%\n",
                "  summarise(total_count = sum(count), .groups = \"drop\")\n",
                "\n",
                "# Plot aggregated trend\n",
                "ggplot(asb_trend, aes(x = date, y = total_count)) +\n",
                "  geom_line(color = \"blue\", size = 1.2) +  # Trend line\n",
                "  geom_point(color = \"red\", size = 2) +  # Highlight monthly points\n",
                "  labs(title = \"Aggregated ASB Trends Over Time\",\n",
                "       x = \"Month\", y = \"Total ASB Incidents\") +\n",
                "  theme_minimal()\n"
            ]
        },
        {
            "cell_type": "markdown",
            "metadata": {},
            "source": [
                "---\n",
                "\n",
                "### **3. Smoothed ASB Trend (Rolling Average)**  \n",
                "We apply a **3-month rolling average** to smooth fluctuations.\n"
            ]
        },
        {
            "cell_type": "code",
            "execution_count": null,
            "metadata": {},
            "outputs": [],
            "source": [
                "# Add 3-month rolling average\n",
                "asb_trend <- asb_trend %>%\n",
                "  mutate(rolling_avg = rollmean(total_count, k = 3, fill = NA, align = \"right\"))\n",
                "\n",
                "# Plot rolling average trend\n",
                "ggplot(asb_trend, aes(x = date)) +\n",
                "  geom_line(aes(y = total_count), color = \"lightblue\", size = 1) +  # Raw data\n",
                "  geom_line(aes(y = rolling_avg), color = \"blue\", size = 1.5) +  # Smoothed trend\n",
                "  geom_point(aes(y = total_count), color = \"red\", size = 2) +\n",
                "  labs(title = \"Aggregated ASB Trends with Rolling Average\",\n",
                "       x = \"Month\", y = \"Total ASB Incidents\") +\n",
                "  theme_minimal()\n"
            ]
        },
        {
            "cell_type": "markdown",
            "metadata": {},
            "source": [
                "## Optional Activity \n",
                "\n",
                "Compare the heat maps now using the ASB data WITH the missing values. Follow the steps below by first preparing your dataset and then making the plots. \n",
                "\n",
                "*1) Filter for just ASB within Surrey Heath \n"
            ]
        },
        {
            "cell_type": "code",
            "execution_count": null,
            "metadata": {},
            "outputs": [],
            "source": [
                "asb_data2 <- crime %>%\n",
                "  filter(.... == \"Anti-social behaviour\") %>% \n",
                "  filter(str_detect(...., \"^Surrey Heath\"))\n"
            ]
        },
        {
            "cell_type": "markdown",
            "metadata": {},
            "source": [
                "*2) Group by LSOA and summarise the crime count\n",
                "\n"
            ]
        },
        {
            "cell_type": "code",
            "execution_count": null,
            "metadata": {},
            "outputs": [],
            "source": [
                "asb_grouped_by_lsoa2 <- asb_data %>%\n",
                "  group_by(.....) %>%\n",
                "  summarise(.....=n())\n"
            ]
        },
        {
            "cell_type": "markdown",
            "metadata": {},
            "source": [
                "*3) Left_join the new grouped ASB dataset to the shapefile\n",
                "\n",
                "Remember we are skipping the imputation method here as we want to see the affect of including missing values into our maps. So go ahead and simply join the grouped data to the shapefile\n"
            ]
        },
        {
            "cell_type": "code",
            "execution_count": null,
            "metadata": {},
            "outputs": [],
            "source": [
                "asb_lsoa_missing <- left_join(...., ...., by = c(\"lsoa21cd\" = \"lsoa_code\"))\n",
                "\n"
            ]
        },
        {
            "cell_type": "markdown",
            "metadata": {},
            "source": [
                "*4) Now plot with ggplot \n",
                "\n"
            ]
        },
        {
            "cell_type": "code",
            "execution_count": null,
            "metadata": {},
            "outputs": [],
            "source": [
                "ggplot(data = ...) +\n",
                "  geom_sf(aes(fill = ...elt()), color = NA) + \n",
                "  scale_fill_viridis_c(option = \"magma\", direction = -1, na.value = \"white\", \n",
                "                       guide = guide_colorbar(title = \"ASB Count\")) + # Adjusts the color scale\n",
                "  labs(title = \"ASB Incidents by LSOA\", \n",
                "       subtitle = \"Visualised using ggplot2\") + \n",
                "  theme_minimal()\n"
            ]
        },
        {
            "cell_type": "markdown",
            "metadata": {},
            "source": [
                "*5) Now plot with leaflet \n",
                "\n"
            ]
        },
        {
            "cell_type": "code",
            "execution_count": null,
            "metadata": {},
            "outputs": [],
            "source": [
                "# Define a color palette function based on the 'count' column\n",
                "colorPalette <- colorNumeric(palette = \"viridis\", domain = asb_lsoa_missing$count, na.color = \"transparent\")\n",
                "\n",
                "# remember to first transform the object into the correct CRS\n",
                "asb_lsoa_missing <- .....(asb_lsoa_missing, ....)\n",
                "\n",
                "# Create the Leaflet map\n",
                "leaflet(....) %>%\n",
                "  addProviderTiles(providers$CartoDB.Positron) %>% # Adds a light-themed base map\n",
                "  addPolygons(\n",
                "    fillColor = ~colorPalette(count), \n",
                "    weight = 1, # Border weight\n",
                "    opacity = 1, # Border opacity\n",
                "    color = \"white\", # Border color\n",
                "    fillOpacity = 0.7, # Fill opacity\n",
                "    popup = ~paste0(\"LSOA: \", lsoa21cd, \"<br>Count: \", count) \n",
                "  ) %>%\n",
                "  addLegend(\"bottomright\", pal = colorPalette, values = ~count,\n",
                "            title = \"ASB Counts\",\n",
                "            opacity = 1)\n"
            ]
        },
        {
            "cell_type": "markdown",
            "metadata": {},
            "source": [
                "\n",
                "\n"
            ]
        }
    ],
    "metadata": {
        "anaconda-cloud": "",
        "kernelspec": {
            "display_name": "R",
            "langauge": "R",
            "name": "ir"
        },
        "language_info": {
            "codemirror_mode": "r",
            "file_extension": ".r",
            "mimetype": "text/x-r-source",
            "name": "R",
            "pygments_lexer": "r",
            "version": "3.4.1"
        }
    },
    "nbformat": 4,
    "nbformat_minor": 1
}
