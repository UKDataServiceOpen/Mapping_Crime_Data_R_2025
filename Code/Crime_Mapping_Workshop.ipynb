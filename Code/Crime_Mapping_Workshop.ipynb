{
    "cells": [
        {
            "cell_type": "markdown",
            "metadata": {},
            "source": [
                "> ⚠️ **Important:** Before running this notebook, make sure you have run the **Prejoining Instructions** section to install necessary packages.\n",
                "\n",
                "## 🛠️ PREJOINING INTRUCTIONS 🛠️\n",
                "\n",
                "### Prerequisite \n",
                "\n",
                "This workshop is suitable for those beginner to intermediate in R. It requires you know how to set your working directory and how to read data into R.\n",
                "\n",
                "Using open source police recorded crime statistics this workshop will demonstrate how to map crime data in R using sf and ggplot. More specifically looking at the area of Surrey we will \n",
                "\n",
                "  1) briefly explore the crime data and introduce key topics in spatial data\n",
                "  2) demonstrate how to join crime data to shapefiles and how to map data \n",
                "  3) identify how to map and calculate crime rate \n",
                "\n",
                "The datasets needed in this workshop include crime data, population statistics and shapefiles. Information on how to download these will be available in the R file names *downloading the data* but feel free to obtain these via git *https://github.com/UKDataServiceOpen/Mapping_Crime_Data_R_2025*. Ensure these are loaded into your environment before starting the workshop\n",
                "\n",
                "\n",
                "### Set your working directory \n",
                "\n",
                "The working directory is just a file path on your computer that sets the default location of any files you read into R, or save out of R. You need to set your current working directory in order to follow along with this workshop, You can read more about working directories here  *https://bookdown.org/ndphillips/YaRrr/the-working-directory.html* \n",
                "\n",
                "You can use the *setwd()* function to set your current working directory, and the *getwd()* function to print your current working directory. \n",
                "\n",
                "I would suggest however, creating an R project with a version control repository. This will allow you to work with the complete set of code provided. To do so follow these steps from the task menu found at the top left of your RStudio;\n",
                "\n",
                "File -> new project -> version control -> click git -> paste the github link in the ''repository url' box  *(https://github.com/UKDataServiceOpen/Mapping_Crime_Data_R_2025.git)* -> give your project directory a name -> tick open in new session -> click create new project.\n",
                "\n",
                "Perfect! Now you can work along side me as I go through the various markdown files. \n",
                "\n",
                "\n",
                "### Install and load the packages required for this workshop\n",
                "\n",
                "Below are a list of packages that need to be installed and loaded into your version of RStudio. To install a package use the function *install.packages(\"...\")* - the quotation marks around the package names are essential. \n",
                "\n",
                "Once installed you then need to load the packages which can be down via the *library(...)* function - the quotation marks here are not essential. \n"
            ]
        },
        {
            "cell_type": "code",
            "execution_count": null,
            "metadata": {},
            "outputs": [],
            "source": [
                "knitr::opts_chunk$set(echo = TRUE)\n",
                "\n",
                "## Install packages \n",
                "\n",
                "# install.packages(\"dplyr\")\n",
                "# install.packages(\"tidyr\")\n",
                "# install.packages(\"readr\")\n",
                "# install.packages(\"tibble\")\n",
                "# install.packages(\"janitor\")\n",
                "# install.packages(\"sf\")\n",
                "# install.packages(\"ggmap\")\n",
                "# install.packages(\"ggplot2\")\n",
                "# install.packages(\"ggspatial\")\n",
                "# install.packages(\"spdep\")\n",
                "# install.packages(\"leaflet\")\n",
                "# install.packages(\"RColorBrewer\")\n",
                "# install.packages(\"tmap\")\n",
                "# install.packages(\"cartogram\")\n",
                "# install.packages(\"prettymapr\")\n",
                "# install.packages(\"geojsonio\") needed to convert spatial objects in colab for accurate visualisation\n",
                "\n",
                "install.packages(c(\"dplyr\", \"tidyr\", \"readr\", \"tibble\", \"janitor\", \"sf\",\n",
                "                   \"ggmap\", \"ggplot2\", \"ggspatial\", \"spdep\", \"leaflet\",\n",
                "                   \"RColorBrewer\", \"tmap\", \"cartogram\", \"prettymapr\", \"geojsonio\"))\n"
            ]
        },
        {
            "cell_type": "markdown",
            "metadata": {},
            "source": [
                "\n",
                "\n"
            ]
        },
        {
            "cell_type": "code",
            "execution_count": null,
            "metadata": {},
            "outputs": [],
            "source": [
                "## Load packages\n",
                "\n",
                "# for data reading/manipulation \n",
                "library(dplyr)\n",
                "library(tidyr)\n",
                "library(readr)\n",
                "library(tibble)\n",
                "library(janitor)\n",
                "library(readxl)\n",
                "# for spatial data and gis\n",
                "library(sf)\n",
                "library(ggmap)\n",
                "library(ggplot2)\n",
                "library(ggspatial)\n",
                "library(spdep)\n",
                "library(leaflet) \n",
                "library(RColorBrewer)\n",
                "library(tmap)\n",
                "library(cartogram)\n",
                "library(prettymapr)\n",
                "library(geojsonio)\n"
            ]
        },
        {
            "cell_type": "markdown",
            "metadata": {},
            "source": [
                "### Connecting GitHub and R (extra step)\n",
                "\n",
                "In order to clone a repository from Github you might be asked to set up a PAT (personal authentication token), if so follow these simple instructions from this link. *https://happygitwithr.com/https-pat.html*. (Do not share this token with anyone, it is a unique password for your Github account)\n",
                "\n",
                "In summary: \n"
            ]
        },
        {
            "cell_type": "code",
            "execution_count": null,
            "metadata": {},
            "outputs": [],
            "source": [
                "usethis::create_github_token()\n",
                "\n",
                "gitcreds::gitcreds_set()\n",
                "#and then enter your token \n"
            ]
        },
        {
            "cell_type": "markdown",
            "metadata": {},
            "source": [
                "--------------------------------------------------------------------------------------------------------------------------\n",
                "\n",
                "\n",
                "## TOPIC 1 - 🏙️ EXPLORING CRIME DATA 🏙️\n",
                "\n",
                "\n",
                "In this first section I will show you how to read in the data, run some basic exploratory analysis and produce some point maps. \n",
                "\n",
                "### Install and Load packages\n",
                "\n",
                "As always the first step is to load the necessary R packages via the library function. If you do not have these packages installed then please follow the instructions in the *Prejoining_Instructions.Rmd* file. \n"
            ]
        },
        {
            "cell_type": "code",
            "execution_count": null,
            "metadata": {},
            "outputs": [],
            "source": [
                "#install.packages(\")\n",
                "#install.packages(c(\"dplyr\", \"tidyr\", \"readr\", \"tibble\", \"janitor\", \"sf\", \n",
                "                  # \"ggmap\", \"ggplot2\", \"ggspatial\", \"spdep\", \"leaflet\", \n",
                "                  # \"RColorBrewer\", \"tmap\", \"cartogram\", \"prettymapr\"))\n"
            ]
        },
        {
            "cell_type": "markdown",
            "metadata": {},
            "source": [
                "\n",
                "\n"
            ]
        },
        {
            "cell_type": "code",
            "execution_count": null,
            "metadata": {},
            "outputs": [],
            "source": [
                "# for data reading/manipulation \n",
                "library(dplyr)\n",
                "library(tidyr)\n",
                "library(readr)\n",
                "library(tibble)\n",
                "library(janitor)\n",
                "library(readxl)\n",
                "# for spatial data and gis\n",
                "library(sf)\n",
                "library(ggmap)\n",
                "library(ggplot2)\n",
                "library(ggspatial)\n",
                "library(spdep)\n",
                "library(leaflet) \n",
                "library(RColorBrewer)\n",
                "library(tmap)\n",
                "#library(rgdal) this package is deprecated\n",
                "library(prettymapr)\n",
                "library(geojsonio)\n"
            ]
        },
        {
            "cell_type": "markdown",
            "metadata": {},
            "source": [
                "  \n",
                "### Downloading the crime data \n",
                "\n",
                " We will be using crime data from *https://data.police.uk/*. This is the site for open data about policing and crime in England, Wales and Northern Ireland. You can download street-level crime, outcome, and stop and search data in clear and simple CSV format and explore the API containing detailed crime data and information about individual police forces and neighborhood teams. You can also download data on police activity, and a range of data collected under the police annual data requirement (ADR) including arrests and 101 call handling.\n",
                " \n",
                " We will be using data from 2023-2024 and in order to save time I have included the data in this R  Project under the Data folder. However, if you were interested in how I collected this then you can view the *downloading the data\" doc* word document, In summary this would involve....\n",
                " \n",
                "Select Downloads -> Select December 2023 to December 2024 -> select Surrey and click 'Include Crime Data'. Download and unzip the data into your working directory.\n",
                "\n",
                "Read in just the month of February 2024. \n"
            ]
        },
        {
            "cell_type": "code",
            "execution_count": null,
            "metadata": {},
            "outputs": [],
            "source": [
                "#unzip(file.choose())\n",
                "\n",
                "library(readr)\n",
                "url <- \"https://raw.githubusercontent.com/UKDataServiceOpen/Mapping_Crime_Data_R_2025/main/Data/crime_data/2024-02/2024-02-surrey-street.csv\"\n",
                "crime <- read_csv(url) %>% janitor::clean_names()\n"
            ]
        },
        {
            "cell_type": "markdown",
            "metadata": {},
            "source": [
                "WE can use the head() and glimpse() function to explore our data.\n",
                "\n"
            ]
        },
        {
            "cell_type": "code",
            "execution_count": null,
            "metadata": {},
            "outputs": [],
            "source": [
                "#explore variables\n",
                "head(crime)\n",
                "glimpse(crime)\n"
            ]
        },
        {
            "cell_type": "markdown",
            "metadata": {},
            "source": [
                "Points, lines and polygon \n",
                "\n",
                "- Our coordinate variables (the latitude and longitude) are known as point data \n",
                "- The 'location' variable represents the line. This is normally define by a street or junction \n",
                "- The 'lsoa name' represent our polygon (borough, wards, districts etc). LSOA refers to the Lower Layer Super Output Areas which are a unit measure in census geography \n",
                "\n",
                "\n",
                "In this data, the \"crime_type' column contains the general names of each of the different crimes.\n",
                "\n",
                "Using the unique() function lists creates an array of the different possible values in the column.\n"
            ]
        },
        {
            "cell_type": "code",
            "execution_count": null,
            "metadata": {},
            "outputs": [],
            "source": [
                "unique(crime$crime_type)\n",
                "\n"
            ]
        },
        {
            "cell_type": "markdown",
            "metadata": {},
            "source": [
                "Before moving on to some of the more complicated spatial topics, lets create some frequency tables for each different crime_type.  \n",
                "\n",
                "The table() can be used to create a frequency table for each different Primary.Type of crime.\n",
                "By default, the table is sorted by the category. order() can be used to order the table by count. In this example, we list the top ten crimes by activity.\n"
            ]
        },
        {
            "cell_type": "code",
            "execution_count": null,
            "metadata": {},
            "outputs": [],
            "source": [
                "counts = table(crime$crime_type)\n",
                "\n",
                "counts = counts[order(counts, decreasing=T)]\n",
                "\n",
                "print(counts[1:10])\n"
            ]
        },
        {
            "cell_type": "markdown",
            "metadata": {},
            "source": [
                "Now we have a nice summarised table of all our crime counts. Lets go ahead and plot this to view this a bit better \n",
                "\n"
            ]
        },
        {
            "cell_type": "code",
            "execution_count": null,
            "metadata": {},
            "outputs": [],
            "source": [
                "par(mar = c(5,10,1,1))\n",
                "\n",
                "y = barplot(counts[1:10], horiz=T, las=1, cex.names=0.7, col=\"whitesmoke\")\n",
                " \n",
                "text(1000, y, counts[1:10], pos=4, cex=0.8)\n"
            ]
        },
        {
            "cell_type": "markdown",
            "metadata": {},
            "source": [
                "We can also improve these summary tables by using use the 'dplyr' for better readability and functionality. \n",
                "\n"
            ]
        },
        {
            "cell_type": "code",
            "execution_count": null,
            "metadata": {},
            "outputs": [],
            "source": [
                "#Table \n",
                "\n",
                "crime_summary <- crime %>%\n",
                "  count(crime_type, sort = TRUE) %>%\n",
                "  top_n(10)\n",
                "\n",
                "print(crime_summary)\n",
                "\n",
                "#Plot \n",
                "\n",
                "ggplot(crime_summary, aes(x = reorder(crime_type, n), y = n, fill = crime_type)) +\n",
                "  geom_col(show.legend = FALSE) +\n",
                "  coord_flip() +\n",
                "  labs(title = \"Top 10 Most Common Crimes in Surrey February 2024\",\n",
                "       x = \"Crime Type\", y = \"Count\") +\n",
                "  theme_minimal()\n"
            ]
        },
        {
            "cell_type": "markdown",
            "metadata": {},
            "source": [
                "### Simple Features and Projection methods\n",
                "\n",
                "Simple Features is a common R language, also known as sf, that allow you to handle and manipulate the UoA (points, lines and polyons). Simple Features allows you store spatial objects.\n",
                "\n",
                "Features refers to the property that linestring and polygons are built from points by straight line segments. \n",
                "\n",
                "One of the fastest growing packages in this area is [sf](https://github.com/r-spatial/sf), which gives you access to a whole host of features and functions for use with spatial data, including visualisation. html) to spatial data out there. For this exercise, we'll keep things simple, and focus on how to use sf to make spatial data visualisations in combination with ggplot. Should you want to know more, or would like additional resources on using spatial data in R, please do not hesitate to ask!\n",
                "\n",
                "\n",
                "CRS and Projection: \n",
                "\n",
                "CRS is a coordinate-based local, regional or global system used to locate geographical entities. A spatial reference system defines a specific map projection, as well as transformations between different spatial reference systems. Spatial reference systems can be referred to using a SRID integer, including EPSG codes.\n",
                "\n",
                "In short \"Projection methods allow us to move move from the 3D to the 2D, CRS allow us to identify specific locations within these.\n",
                "\n",
                "There are thousands of CRS, the most common being BNG and the WGS 84 \n",
                "\n",
                "Each crs has an ESPG identifier\n",
                "i.e. the BNG = 27700 (British National Grid)\n",
                "i.e. the WGS 84 is 4326 (World Geodetic System)\n",
                "i.e. the ETRS 1980 = 3035 (European Terrestial Reference System)\n",
                "\n",
                "\n",
                "First step is to transform you ordinary data into an sf object using 'st_as_sf' - which converts our latitude and longitude to a geometry attribute\n",
                "\n",
                "To recap, sf objects are just data-frames that are collections of spatial objects. Each row is a spatial object (e.g. a polgyon), that may have data associated with it (e.g. its area) and a special geo variable that contains the coordinates\n"
            ]
        },
        {
            "cell_type": "code",
            "execution_count": null,
            "metadata": {},
            "outputs": [],
            "source": [
                "st_crs(crime)   # to check the crs\n",
                "\n",
                "sf <- st_as_sf(crime,                                \n",
                "                      coords = c(\"longitude\", \"latitude\"),\n",
                "                      crs = 4326,     \n",
                "                      na.fail = FALSE)\n",
                "st_crs(sf)\n",
                "\n",
                "glimpse(sf)\n",
                "head(sf)\n"
            ]
        },
        {
            "cell_type": "markdown",
            "metadata": {},
            "source": [
                "Other functions \n",
                "\n",
                "- agr (atribute-geometry-relationship) = character vector. \n",
                "- Specifies for each non-geometry attribute column how it relates to the geometry, and can have one of following values: \"constant\", \"aggregate\", \"identity\". \"constant\" is used for attributes that are constant throughout the geometry (e.g. land use), \"aggregate\" where the attribute is an aggregate value over the geometry (e.g. population density or population count), \"identity\" when the attributes uniquely identifies the geometry of particular \"thing\", such as a building ID or a city name. The default value, NA_agr_, implies we don't know.\n",
                "\n",
                "\n",
                "### Mapping point data \n",
                "\n",
                "Now we have an sf object which contains point-level, spatially sensitive data about Crime in Surrey 2019, We can now create a basic point map of these\n",
                "\n",
                "#### Plot the point data\n"
            ]
        },
        {
            "cell_type": "code",
            "execution_count": null,
            "metadata": {},
            "outputs": [],
            "source": [
                "ggplot() + \n",
                "  geom_sf(data = sf)\n"
            ]
        },
        {
            "cell_type": "markdown",
            "metadata": {},
            "source": [
                "#### Colour the different crime type\n",
                "\n"
            ]
        },
        {
            "cell_type": "code",
            "execution_count": null,
            "metadata": {},
            "outputs": [],
            "source": [
                "ggplot() + \n",
                "  geom_sf(data = sf, aes(col = crime_type))\n",
                "\n",
                "#### with titles\n",
                "ggplot() + \n",
                "  geom_sf(data = sf, aes(fill = crime_type, col = crime_type)) + \n",
                "  labs(title = \"Crime Count in Surrey\", \n",
                "       subtitle = \"February 2024\", \n",
                "       caption = \"Police Recorded Crime Statistics\")\n",
                "\n",
                "# Go one step further and change theme and transparency\n",
                "ggplot() + \n",
                "  geom_sf(data = sf, aes(color = crime_type), alpha = 0.6) +\n",
                "  theme_minimal() +\n",
                "  labs(title = \"Crime Locations in Surrey\",\n",
                "       subtitle = \"February 2024\",\n",
                "       caption = \"Source: Police.uk\")\n"
            ]
        },
        {
            "cell_type": "markdown",
            "metadata": {},
            "source": [
                "#### Reference map / base map  \n",
                "\n"
            ]
        },
        {
            "cell_type": "code",
            "execution_count": null,
            "metadata": {},
            "outputs": [],
            "source": [
                "ggplot() + \n",
                "  annotation_map_tile() +\n",
                "  geom_sf(data = sf, aes(col = crime_type))\n"
            ]
        },
        {
            "cell_type": "markdown",
            "metadata": {},
            "source": [
                "#### Sub-setting for just ASB \n",
                "\n"
            ]
        },
        {
            "cell_type": "code",
            "execution_count": null,
            "metadata": {},
            "outputs": [],
            "source": [
                "asb <- subset(sf, crime_type == \"Anti-social behaviour\") %>% \n",
                "  select(-c(1, 9, 10))\n",
                "head(asb)\n",
                "\n",
                "\n",
                "ggplot() +\n",
                "  annotation_map_tile() +\n",
                "  geom_sf(data = asb)\n"
            ]
        },
        {
            "cell_type": "markdown",
            "metadata": {},
            "source": [
                "## Activity 1\n",
                "\n",
                "How does this compare to the crime_type 'drugs'?\n",
                "\n",
                "Steps; \n",
                "*1. Subset the data for the those crime types recorded as 'drugs', \n",
                "*2. create this into a new object like we did for ASB and name it 'drugs' \n",
                "*3. Using ggplot plot the point data over a base map (reference map)\n"
            ]
        },
        {
            "cell_type": "code",
            "execution_count": null,
            "metadata": {},
            "outputs": [],
            "source": [
                "#1)\n",
                "subset(sf, ..... ==  .....  )\n",
                "\n",
                "\n",
                "#2) \n",
                "drugs <- subset(sf, ..... == ..... ) \n",
                "\n",
                "\n",
                "#3)\n",
                "ggplot() +\n",
                "  ..............() +\n",
                "  geom_sf(data = .....) \n"
            ]
        },
        {
            "cell_type": "markdown",
            "metadata": {},
            "source": [
                "--------------------------------------------------------------------------------------------------------------------------\n",
                "\n",
                "## TOPIC 2 - 🗺️ SHAPEFIlES 🗺️  \n",
                "\n",
                "\n",
                "In this section we will be working with shapefiles. More specifically how to read in a shapefile and join this to our aggregated crime count data frame. From there we introduce classification methods as a way to better visualize crime counts. \n",
                "\n",
                "### Load packages\n",
                "\n",
                "As always the first step is to load the necessary R packages via the library function. If you do not have these packages installed then please follow the instructions in the *Preliminary Task.Rmd* file. \n"
            ]
        },
        {
            "cell_type": "code",
            "execution_count": null,
            "metadata": {},
            "outputs": [],
            "source": [
                "# for data reading/manipulation \n",
                "library(dplyr)\n",
                "library(tidyr)\n",
                "library(readr)\n",
                "library(tibble)\n",
                "library(janitor)\n",
                "library(readxl)\n",
                "# for spatial data and gis\n",
                "library(sf)\n",
                "library(ggmap)\n",
                "library(ggplot2)\n",
                "library(ggspatial)\n",
                "library(spdep)\n",
                "library(leaflet) \n",
                "library(RColorBrewer)\n",
                "library(tmap)\n",
                "library(geojsonio)\n"
            ]
        },
        {
            "cell_type": "markdown",
            "metadata": {},
            "source": [
                "### What is a Shapefile? \n",
                "\n",
                "They represent a geospatial vector that is used for GIS software. Shapefiles store both geographic location and its associated attribute information \n",
                "\n",
                "The Shapefile format stores the data as primitive geometric shapes like points, lines, and polygons. These shapes, together with data attributes that are linked to each shape, create the representation of the geographic data.\n",
                "\n",
                "They contain four mandatory file extensions (.shx, .shp, .dbf and the .prj). \n",
                "- The .shp contains the geometry data (a 2D axis ordering of coordinate data)\n",
                "- The .shx contains the positional index of the feature geometry \n",
                "- The .dbf contins the attributes for each shape\n",
                "- The .prj contains the cs and projection information\n",
                "\n",
                "In criminological research, the LSOA is quite frequently used as the main census geography \n",
                "\n",
                "\n",
                "### Where to obtain shapefiles \n",
                "\n",
                "I collected my shapefile data via the UKDS Census Support *(https://borders.ukdataservice.ac.uk/bds.html)*. If you want specific information about how to use the website, please refer to the *Downloading the data* document again \n",
                "\n",
                "\n",
                "### Read in the Shapefile for 'Surrey Heath' \n"
            ]
        },
        {
            "cell_type": "code",
            "execution_count": null,
            "metadata": {},
            "outputs": [],
            "source": [
                "# Define the base URL for the shapefile components\n",
                "base_url <- \"https://raw.githubusercontent.com/UKDataServiceOpen/Mapping_Crime_Data_R_2025/main/Data/shapefile_data/\"\n",
                "\n",
                "# List of necessary files for the shapefile\n",
                "shp_files <- c(\"england_lsoa_2021.shp\", \"england_lsoa_2021.dbf\", \"england_lsoa_2021.prj\", \"england_lsoa_2021.shx\")\n",
                "\n",
                "# Create local directory for downloaded shapefile\n",
                "dir.create(\"shapefile_data\", showWarnings = FALSE)\n",
                "\n",
                "# Download each shapefile component\n",
                "for (file in shp_files) {\n",
                "  download.file(paste0(base_url, file), paste0(\"shapefile_data/\", file), mode = \"wb\")\n",
                "}\n",
                "\n",
                "# Read the shapefile\n",
                "shp_file <- sf::st_read(\"shapefile_data/england_lsoa_2021.shp\")\n",
                "\n",
                "# Print summary\n",
                "shp_file\n"
            ]
        },
        {
            "cell_type": "markdown",
            "metadata": {},
            "source": [
                "You can also use the head() function in shapefiles!\n",
                "\n"
            ]
        },
        {
            "cell_type": "code",
            "execution_count": null,
            "metadata": {},
            "outputs": [],
            "source": [
                "head(shp_file)\n",
                "#or use 'View(shp_file) to view the full dataset which will open up in a new panel\n"
            ]
        },
        {
            "cell_type": "markdown",
            "metadata": {},
            "source": [
                "*Further Information - To clarify, this is an 'empty shapefile', it simply contains the boundary profile of Surrey Heath and does not contain any further attribute information. However, if it did contain further attribute information such as the crime counts, population statistics, IMD counts, then you would not need to join the data as we do in this workshop, but instead you could layer the shapefile over our simple feature object created in Topic 1. More information on this method is available from the workshop that was held in February - all resources are available via the 'Feb_2021' folder from the github link [https://github.com/UKDataServiceOpen/Crime_Data_in_R.git] *\n",
                "\n",
                "Lets plot the empty shapefile (without attribute data) for Surrey Heath to see what we're actually looking at.\n"
            ]
        },
        {
            "cell_type": "code",
            "execution_count": null,
            "metadata": {},
            "outputs": [],
            "source": [
                "## Plot the Shapefile \n",
                "ggplot() + \n",
                "  geom_sf(data = shp_file)\n"
            ]
        },
        {
            "cell_type": "markdown",
            "metadata": {},
            "source": [
                "As you can seem, we have a map that details the borders (i.e. shape) between each LSOA in Surrey. \n",
                "\n",
                "This workshop instead joins the 'crime' datatset (in tibble format) to the above shapefile. Our newly created object 'shp_file' is in fact a sf object, which is short for a 'simple feature object'. You can check this by typing *class(shp_file)*. \n"
            ]
        },
        {
            "cell_type": "code",
            "execution_count": null,
            "metadata": {},
            "outputs": [],
            "source": [
                "class(shp_file)\n",
                "\n"
            ]
        },
        {
            "cell_type": "markdown",
            "metadata": {},
            "source": [
                "So in total, the shapefile consits of 5 variables. The first 4 variables indicate information about that specific LSOA, we are given the name, LSOA code and LSOA name. We can ignore the column 'label' as this is just another reference point.\n",
                "\n",
                "\n",
                "The column I want to draw attention to is the 'geometry column' \n"
            ]
        },
        {
            "cell_type": "code",
            "execution_count": null,
            "metadata": {},
            "outputs": [],
            "source": [
                "attributes(shp_file$geometry)\n",
                "\n"
            ]
        },
        {
            "cell_type": "markdown",
            "metadata": {},
            "source": [
                "The geometry column can be split into two key sections; the feature and the geometry \n",
                "  - The feature in this case is our polygon level (referenced by the multipolygon) which is in fact a  *simple feature geometery list- column (sfc)* \n",
                "  - The geometery are the numbers that follow, and more technically known as a *'simple feature geometry (sfg)*\n",
                "\n",
                "The column in the sf data.frame that contains the geometries is a list, of class sfc. We can retrieve the geometry list-column in this case by using st_geometry. \n"
            ]
        },
        {
            "cell_type": "code",
            "execution_count": null,
            "metadata": {},
            "outputs": [],
            "source": [
                "st_geometry(shp_file)\n",
                "\n"
            ]
        },
        {
            "cell_type": "markdown",
            "metadata": {},
            "source": [
                "Now we have a basic understanding of what a shapefile is and how we can import them into r, the next step is run some data manipulation and create some new dataframes that can work with the format of shapefiles. \n",
                "\n",
                "\n",
                "\n",
                "### Group the crimes per lsoa \n",
                "\n",
                "The original crime data set contains the individual count of reported crime types across LSOAS, therefore the LSOAs are repeated multiple times. This is because you would expect to see multiple crime counts in one LSOA.\n",
                "\n",
                "In order to highlight how many crimes have occurred in each LSOA, we can count the crimes per LSOA and obtained grouped statistics.\n"
            ]
        },
        {
            "cell_type": "code",
            "execution_count": null,
            "metadata": {},
            "outputs": [],
            "source": [
                "crimes_grouped_by_lsoa <- crime %>%\n",
                "  group_by(lsoa_code) %>%\n",
                "  summarise(count=n())\n",
                "\n",
                "head(crimes_grouped_by_lsoa)\n"
            ]
        },
        {
            "cell_type": "markdown",
            "metadata": {},
            "source": [
                "### Merge the shapefile to the crime dataset\n",
                "\n",
                "In our new object you will see two variables, the LSOA and the count of crime in each one.  \n",
                "\n",
                "We can now join the Shapefile (the geospatial vector) and the crimes_grouped_by_losa (the aggregated data)\n",
                "\n",
                "To join the crimes per lsoa to the shapefile we can use the left_join function that returns all the rows of the table on the left side of the join and matching rows for the table on the right side of join.\n"
            ]
        },
        {
            "cell_type": "code",
            "execution_count": null,
            "metadata": {},
            "outputs": [],
            "source": [
                "surrey_lsoa <- left_join(shp_file, crimes_grouped_by_lsoa, by = c(\"lsoa21cd\" = \"lsoa_code\"))\n",
                "\n",
                "head(surrey_lsoa)\n",
                "\n",
                "st_geometry_type(surrey_lsoa)    #view the geometery type \n",
                "st_bbox(surrey_lsoa)             #obtains the objects value as specific units \n",
                "\n",
                "\n",
                "#The spatial extent of a shapefile or R spatial object represents the geographic “edge” or location that is the #furthest north, south east and west. Thus is represents the overall geographic coverage of the spatial object.\n"
            ]
        },
        {
            "cell_type": "markdown",
            "metadata": {},
            "source": [
                "Now lets map the new data!\n",
                "\n"
            ]
        },
        {
            "cell_type": "code",
            "execution_count": null,
            "metadata": {},
            "outputs": [],
            "source": [
                "#map the data\n",
                "ggplot() + \n",
                "  annotation_map_tile() + \n",
                "  geom_sf(data = surrey_lsoa, aes(fill = count), alpha = 0.5) + \n",
                "  scale_fill_gradient2(name =\"Number of crimes\")\n",
                "\n",
                "## imroved mapping, \n",
                "ggplot(surrey_lsoa) + \n",
                "  geom_sf(aes(fill = count), color = \"black\", lwd = 0.2) +\n",
                "  scale_fill_viridis_c(option = \"plasma\", name = \"Crime Count\") + #better colour schemes\n",
                "  labs(title = \"Crime Counts by LSOA in Surrey\",\n",
                "       caption = \"Source: Police.uk\") +\n",
                "  theme_minimal()\n"
            ]
        },
        {
            "cell_type": "markdown",
            "metadata": {},
            "source": [
                "### Plotting via the 'tmap' package\n",
                "\n",
                "The tmap package allows you tp create thematic maps, the syntax is very similar to the ggplot2. Each map can be plot as an image or as an interactive map via the *tmap_mode(\"view\" / \"plot\" )* function. \n"
            ]
        },
        {
            "cell_type": "code",
            "execution_count": null,
            "metadata": {},
            "outputs": [],
            "source": [
                "tmap_mode(\"view\")\n",
                "\n",
                "tm_shape(surrey_lsoa) + \n",
                "  tm_fill(\"count\") + \n",
                "  tm_borders(\"green\", lwd = 0.7, alpha = 0.5)\n",
                "  #tm_text(\"name\", size = \"AREA\", col = \"black\")\n",
                "  #tmap_style(\"col_blind\")\n",
                "\n",
                "## another example\n",
                "tm_shape(surrey_lsoa) + \n",
                "  tm_polygons(\"count\", palette = \"Reds\", title = \"Crime Count\") + \n",
                "  tm_borders(\"black\", lwd = 0.5) +\n",
                "  tm_layout(main.title = \"Crime Counts by LSOA in Surrey\")\n"
            ]
        },
        {
            "cell_type": "markdown",
            "metadata": {},
            "source": [
                "### Classification methods\n",
                "\n",
                "How can we better visualise counts? Count data does not equally represent the population distribution at hand, tmaps allows you to alter the characteristics of thematic maps via the 'styles' function. The different styles result in different binning techniques.  Now, when mapping quantitative data such as crime counts, typically the variables needed to be put into to 'bins'. As seen in the previous example, the default binning applied to highlight the LSOAs grouped started from 1-10, 11-20, 21-20, 31-40, 41-50 and 51-60 crimes.\n",
                "\n",
                "These bins were decided on automatically, however we can define more accurate classes that best reflect the distributional character of the data set.\n",
                "\n",
                "\n",
                "In this example I've used the \"kmeans\", \"jenks\" and \"sd\".\n",
                "\n",
                "- k-means is a method of vector quantisation, originally from signal processing, that aims to partition n observations into k clusters in which each observation belongs to the cluster with the nearest mean, serving as a prototype of the cluster.\n",
                "- Jenks (also known as natural breaks, or goodness of fit variance) classification aims to arrange a set of values into natural classes, that is the most optimal class range found naturally. This method minimizes the variation within each range, so the areas within each range are as close as possible in value to each other. \n",
                "- sd classification is a standarised measure of observations deviated from the mean. By showing which values are above or below the mean, this method helps to show which locations are above or below an average mean.\n",
                "\n",
                "\n",
                "Here's a quick example to show why different classification methods matter\n"
            ]
        },
        {
            "cell_type": "code",
            "execution_count": null,
            "metadata": {},
            "outputs": [],
            "source": [
                "hist(surrey_lsoa$count, breaks = 30, main = \"Crime Count Distribution\", col = \"lightblue\")\n",
                "\n"
            ]
        },
        {
            "cell_type": "markdown",
            "metadata": {},
            "source": [
                "Lets look at some more detailed examples; \n",
                "\n"
            ]
        },
        {
            "cell_type": "code",
            "execution_count": null,
            "metadata": {},
            "outputs": [],
            "source": [
                "a <- tm_shape(surrey_lsoa) + \n",
                "  tm_fill(\"count\", style = \"kmeans\") + \n",
                "  tm_borders(alpha = 0.3)\n",
                "\n",
                "b <- tm_shape(surrey_lsoa) + \n",
                "  tm_fill(\"count\", style = \"jenks\") + \n",
                "  tm_borders(alpha = 0.3)\n",
                "\n",
                "c <- tm_shape(surrey_lsoa) + \n",
                "  tm_fill(\"count\", style = \"sd\") + \n",
                "  tm_borders(alpha = 0.3)\n",
                "\n",
                "\n",
                "## tmap_arrange\n",
                "\n",
                "tmap_mode(\"plot\")\n",
                "tmap_arrange(a, b, c)\n"
            ]
        },
        {
            "cell_type": "markdown",
            "metadata": {},
            "source": [
                "### Using categorical variables (tm_facets)\n",
                "\n",
                "Just like the tmap_arrange function, tmap_facets are way to produce side-by-side maps (known as *small multiples*). It is similar to the 'facet_grid' function in ggplot2\n",
                "\n",
                "Following the rdocumentation [https://www.rdocumentation.org/packages/tmap/versions/3.3-2/topics/tm_facets] \"Small multiples can be created in two ways: 1) by specifying the by argument with one or two variable names, by which the data is grouped, 2) by specifying multiple variable names in any of the aesthetic argument of the layer functions (for instance, the argument col in tm_fill).\" \n",
                "\n",
                "Typically tm_facets are defined by a categorical variables. For example in this example, I am using tm_facets() to seperate the map into multiple components by lsoa (This isnt't the best example of a categorical variable, but something like the urban or rural landscape, or deprivation decile, would be more of interest in criminology). You could for example download the 2011 rural/urban classification from open geography portal and join this to our 'surrey_lsoa' sf object (using left_join). \n",
                "\n",
                "If you are interested in doing so the dataset can be found here;\n",
                "[https://www.ons.gov.uk/methodology/geography/geographicalproducts/ruralurbanclassifications/2011ruralurbanclassification]\n"
            ]
        },
        {
            "cell_type": "code",
            "execution_count": null,
            "metadata": {},
            "outputs": [],
            "source": [
                "tm_shape(surrey_lsoa) +\n",
                "  tm_fill(\"count\",\n",
                "          style = \"quantile\",\n",
                "          palette = \"Blues\",\n",
                "          thres.poly = 0) + \n",
                "  tm_facets(by=\"name\", \n",
                "            free.coords=TRUE, \n",
                "            drop.shapes=TRUE) +\n",
                "  tm_layout(legend.show = FALSE,\n",
                "            title.position = c(\"center\", \"center\"), \n",
                "            title.size = 20) +\n",
                "  tm_borders(alpha = 0.5)\n"
            ]
        },
        {
            "cell_type": "markdown",
            "metadata": {},
            "source": [
                "### Map Layouts - additional features of tmap (optional task)\n",
                "\n",
                "#### map style \n"
            ]
        },
        {
            "cell_type": "code",
            "execution_count": null,
            "metadata": {},
            "outputs": [],
            "source": [
                "tm_shape(surrey_lsoa) + \n",
                "  tm_fill(\"count\", style = \"sd\") + \n",
                "  tm_borders(alpha = 0.3) + \n",
                "  tmap_style(\"col_blind\")\n"
            ]
        },
        {
            "cell_type": "markdown",
            "metadata": {},
            "source": [
                "#### map legends\n",
                "\n"
            ]
        },
        {
            "cell_type": "code",
            "execution_count": null,
            "metadata": {},
            "outputs": [],
            "source": [
                "tm_shape(surrey_lsoa)+\n",
                "  tm_fill(\"count\", \n",
                "          style = \"quantile\", \n",
                "          palette = \"Blues\", \n",
                "          legend.hist = TRUE, \n",
                "          legend.is.portrait = TRUE,\n",
                "          legend.hist.z = 0.1) +\n",
                "  tm_layout(legend.height = 0.45, \n",
                "            legend.width = 0.35,\n",
                "            legend.outside = FALSE,\n",
                "            legend.position = c(\"right\", \"bottom\"),\n",
                "            frame = FALSE) +\n",
                "  tm_borders(alpha = 0.5)\n"
            ]
        },
        {
            "cell_type": "markdown",
            "metadata": {},
            "source": [
                "#### compass, scale bar and grid\n",
                "\n"
            ]
        },
        {
            "cell_type": "code",
            "execution_count": null,
            "metadata": {},
            "outputs": [],
            "source": [
                "tm_shape(surrey_lsoa)+\n",
                "  tm_fill(\"count\", \n",
                "          style = \"quantile\", \n",
                "          palette = \"Blues\", \n",
                "          legend.hist = TRUE, \n",
                "          legend.is.portrait = TRUE,\n",
                "          legend.hist.z = 0.1) +\n",
                "  tm_layout(legend.height = 0.45, \n",
                "            legend.width = 0.35,\n",
                "            legend.outside = FALSE,\n",
                "            legend.position = c(\"right\", \"bottom\"),\n",
                "            frame = FALSE) +\n",
                "  tm_borders(alpha = 0.5) +\n",
                "  tm_compass(type=\"8star\", size = 2) +   #compass \n",
                "  tm_scale_bar(width = 0.15) +           #scale bar \n",
                "  tm_grid()                              #grid\n"
            ]
        },
        {
            "cell_type": "markdown",
            "metadata": {},
            "source": [
                "## Activity 2\n",
                "\n",
                "1. Explore some of the different classification methods such as \"bclust\" and \"hclust\"  - what are the main differences? To get help on the different methods available use *??tmap-package* or search in the help tab \n",
                "\n",
                "2. Assign your new bclust and hclust classification maps into separate objects (call them \"h\" and \"b\" and plot them together using tmap_arrange()\n",
                "\n",
                "\n",
                "3. Plot an interactive map using the \"bclust\" classification method by changing the command in the tmap_mode() function \n",
                "\n",
                "   \n"
            ]
        },
        {
            "cell_type": "code",
            "execution_count": null,
            "metadata": {},
            "outputs": [],
            "source": [
                "#1)\n",
                "\n",
                "... <- tm_shape(.....) + \n",
                "  tm_fill(\"...\", style = \"....\") + \n",
                "  tm_borders(alpha = 0.3)\n",
                "\n",
                "\n",
                "... <- tm_shape(........) + \n",
                "  tm_fill(\"...\", style = \".....\") + \n",
                "  tm_borders(alpha = 0.3)\n",
                "\n",
                "\n",
                "#2) \n",
                "\n",
                "tmap_arrange(...., ....)\n",
                "\n",
                "\n",
                "\n",
                "#3) \n",
                "\n",
                "tmap_mode(\"....\")\n",
                "\n",
                "tm_shape(.....) + \n",
                "  tm_fill(....., style = .....) + \n",
                "  tm_borders(alpha = 0.3)\n"
            ]
        },
        {
            "cell_type": "markdown",
            "metadata": {},
            "source": [
                " \n",
                "\n",
                "\n",
                "--------------------------------------------------------------------------------------------------------------------------\n",
                "\n",
                "## TOPIC 3 - 🏠 CENSUS 🏠 \n",
                "\n",
                "In this section we incorporate some census data onto our shapefile so we can calculate and explore the differences between crime rate and crime counts. We then introduce cartograms as an alternative thematic map. \n",
                "\n",
                "In theory showing that crime rate accounts for population differences and is a more meaningful measure than raw counts.\n",
                "\n",
                "As always the first step is to load the necessary R packages via the library function. If you do not have these packages installed then please follow the instructions in the *Preliminary Task.Rmd* file. \n",
                "\n",
                "### Load Packages\n"
            ]
        },
        {
            "cell_type": "code",
            "execution_count": null,
            "metadata": {},
            "outputs": [],
            "source": [
                "# for data reading/manipulation \n",
                "library(dplyr)\n",
                "library(tidyr)\n",
                "library(readr)\n",
                "library(tibble)\n",
                "library(janitor)\n",
                "library(readxl)\n",
                "# for spatial data and gis\n",
                "library(sf)\n",
                "library(ggmap)\n",
                "library(ggplot2)\n",
                "library(ggspatial)\n",
                "library(ggspatial)\n",
                "library(spdep)\n",
                "library(leaflet) \n",
                "library(RColorBrewer)\n",
                "library(tmap)\n",
                "library(geojsonio)\n"
            ]
        },
        {
            "cell_type": "markdown",
            "metadata": {},
            "source": [
                "### Read in the population statistics\n",
                "\n",
                "Count data is not entirely accurate of population density. Whilst the code in Section_1 and Section_2 might help us identify interesting patterns, point-level open crime data is rarely used in isolation for detailed analysis. \n",
                "\n",
                "For one thing, the data are points are geomasked. This means that points are highly likely to be overlapped, giving a skewed picture of the distribution. There are ways round this, such as through jittering or applying census based data. To view more information about jittering please view the 'Additional Topic.rmd' file,\n",
                "\n",
                "\n",
                "### Census 2022\n",
                "\n",
                "We will be using the new census 2022 data to calculate the crime rate across both residential population vs working population,\n",
                "\n",
                "The data was downloaded from CKAN which can be accessed from the front page of our website *https://statistics.ukdataservice.ac.uk/dataset/?vocab_Area_type=Lower%20Super%20Output%20Areas*\n",
                "\n",
                "I simply searched for 'residents' and 'work' as I want to calculate the difference in crime counts compared to the usual resident population and then to the usual workday population. Download the super layer output areas and once opened in excel, you can select just the rows that correspond to 'Surrey Heath'.\n",
                "\n",
                "But have no fear if you don't know how to do this or are simply feeling a little lazy (I get it), you can just read in the data that has been cleaned for you in the Data folder. There is more information via the *Dowloading the Data* doc if you are interested in the download process. \n",
                "\n",
                "So lets read in the data and use the clean_names() function again to lowercase and tidy all variable names. \n",
                "\n",
                "We are going to start with just the resident population which is the data set named 'res_count.xlsx'\n"
            ]
        },
        {
            "cell_type": "code",
            "execution_count": null,
            "metadata": {},
            "outputs": [],
            "source": [
                "url <- \"https://raw.githubusercontent.com/UKDataServiceOpen/Mapping_Crime_Data_R_2025/main/Data/census_data/resident_population.xlsx\"\n",
                "\n",
                "# Download the Excel file to a temporary location before reading\n",
                "temp_file <- tempfile(fileext = \".xlsx\")\n",
                "download.file(url, temp_file, mode = \"wb\")\n",
                "\n",
                "residential_count <- read_excel(temp_file) %>% janitor::clean_names() %>%\n",
                "  slice(-c(1:7)) %>%\n",
                "  slice(-c(56, 57)) %>% \n",
                "  rename(lsoa = x2, #rename the variables \n",
                "         name = ts001_number_of_usual_residents_in_households_and_communal_establishments,\n",
                "         res_count = x3) \n",
                "\n",
                "head(residential_count)\n"
            ]
        },
        {
            "cell_type": "markdown",
            "metadata": {},
            "source": [
                "### Join the data to our new shapefile\n",
                "\n",
                "The next step is to join these new statistics to our previously created shapefile named 'surrey_lsoa\". We do thus by using the left_join() function in the dplyr package and attach them by the same LSOA codes. \n"
            ]
        },
        {
            "cell_type": "code",
            "execution_count": null,
            "metadata": {},
            "outputs": [],
            "source": [
                "surrey_lsoa <- left_join(surrey_lsoa, residential_count, by = c(\"lsoa21cd\"=\"lsoa\"))\n",
                "\n",
                "head(surrey_lsoa)\n"
            ]
        },
        {
            "cell_type": "markdown",
            "metadata": {},
            "source": [
                "Now you will see the census data has merged into the shapefile, Great lets move on to calculating crime rate.\n",
                "\n",
                "\n",
                "### How to calculate the crime rate?\n",
                "\n",
                "A crime rate is calculated by dividing the number of reported crimes by the total population, and then multiplying by 100,000. \n",
                "\n",
                "So for our dataset, we take the count variable, divide by the 'pop' variable (workday or residential), and then times by 1000 (in this instance we use 1000 as this is the average population of an LSOA, if you were using larger UoA you can choose to multiply by 100,000. Just remember what affect this will have on your rate and how this then interprets across your results.\n",
                "\n",
                "In order to work out the crime rate, we need to create a new variable that takes the count/pop*1000. We can use the mutate() function from the dplyr package to calculate this for us. \n"
            ]
        },
        {
            "cell_type": "code",
            "execution_count": null,
            "metadata": {},
            "outputs": [],
            "source": [
                "surrey_lsoa <- surrey_lsoa %>% \n",
                "  mutate(crime_rate = (count/res_count*1000))\n",
                "         \n",
                "head(surrey_lsoa)\n"
            ]
        },
        {
            "cell_type": "markdown",
            "metadata": {},
            "source": [
                "### Now lets explore these trends using ggplot and tmaps;\n",
                "\n",
                "#### First ggplot\n"
            ]
        },
        {
            "cell_type": "code",
            "execution_count": null,
            "metadata": {},
            "outputs": [],
            "source": [
                "ggplot() + \n",
                "  annotation_map_tile() + \n",
                "  geom_sf(data = surrey_lsoa, aes(fill = crime_rate), alpha = 0.5) + \n",
                "  scale_fill_gradient2(name =\"Crime Rate\")\n",
                "\n",
                "##Improve Mapping\n",
                "ggplot(surrey_lsoa) + \n",
                "  geom_sf(aes(fill = crime_rate), color = \"black\", lwd = 0.2) +\n",
                "  scale_fill_viridis_c(option = \"magma\", name = \"Crime Rate per 10,000\") +\n",
                "  labs(title = \"Crime Rate by LSOA in Surrey\",\n",
                "       caption = \"Source: Police.uk & Census 2022\") +\n",
                "  theme_minimal()\n"
            ]
        },
        {
            "cell_type": "markdown",
            "metadata": {},
            "source": [
                "#### What about tmaps \n",
                "\n"
            ]
        },
        {
            "cell_type": "code",
            "execution_count": null,
            "metadata": {},
            "outputs": [],
            "source": [
                "tm_shape(surrey_lsoa) + \n",
                "  tm_fill(\"crime_rate\", style = \"quantile\") + \n",
                "  tm_borders(alpha = 0.3)\n",
                "\n",
                "##Improved Mapping \n",
                "tmap_mode(\"plot\")\n",
                "\n",
                "tm_shape(surrey_lsoa) + \n",
                "  tm_polygons(\"crime_rate\", style = \"jenks\", palette = \"Reds\", \n",
                "              title = \"Crime Rate (per 10,000)\") + \n",
                "  tm_borders(\"black\", lwd = 0.5) +\n",
                "  tm_layout(main.title = \"Crime Rate by LSOA in Surrey\")\n"
            ]
        },
        {
            "cell_type": "markdown",
            "metadata": {},
            "source": [
                "### Cartograms and ggplot\n",
                "\n",
                "A cartogram is a type of map where different geographic areas are modified based on a variable associated to those areas. There are two two types of cartograms: contiguous vs non-contiguous (sharing a common border). \n",
                "\n",
                "The cartogram package allows to build cartograms in R. It requires a geospatial object as input, with a numeric variable in the data slot. This variable will be used to distort region shape.\n"
            ]
        },
        {
            "cell_type": "code",
            "execution_count": null,
            "metadata": {},
            "outputs": [],
            "source": [
                "# library(cartogram)\n",
                "# \n",
                "# #In our data set we have a variable “res_count_wrk” which refers to the total number of people in our LSOA\n",
                "# cart <- cartogram_cont(surrey_lsoa, weight = \"res_count\")\n",
                "# \n",
                "# \n",
                "# ## simple plot\n",
                "# ggplot(cart) +\n",
                "#   geom_sf()\n",
                "# \n",
                "# \n",
                "# ## fill with our count variable\n",
                "# ggplot(cart) +\n",
                "#   geom_sf(aes(fill = pop_count_wrk))\n",
                "# \n",
                "# \n",
                "# ## add in some aesthetics\n",
                "# ggplot(cart) +\n",
                "#   geom_sf(aes(fill = pop_count_wrk),\n",
                "#           color = \"gray50\",\n",
                "#           linetype = 1,\n",
                "#           lwd = 0.35) +\n",
                "#   scale_fill_gradientn(colours = heat.colors(n =10,\n",
                "#                                             alpha = 0.5,\n",
                "#                                             rev = TRUE)) +\n",
                "#   theme_gray() +\n",
                "#   labs(title = \"Surrey Heath: Population by LSOA\",\n",
                "#        subtitle = \"August 2020\")\n",
                "# ```\n"
            ]
        },
        {
            "cell_type": "markdown",
            "metadata": {},
            "source": [
                "## Activity 3\n",
                "\n",
                "We have successfully mapped the residential population, now lets do the same with the variable workday (economic activity). First step is to read and clean the data as seen here:\n"
            ]
        },
        {
            "cell_type": "code",
            "execution_count": null,
            "metadata": {},
            "outputs": [],
            "source": [
                "url <- \"https://raw.githubusercontent.com/UKDataServiceOpen/Mapping_Crime_Data_R_2025/main/Data/census_data/workday_population.xlsx\"\n",
                "\n",
                "# Download the Excel file to a temporary location before reading\n",
                "temp_file <- tempfile(fileext = \".xlsx\")\n",
                "download.file(url, temp_file, mode = \"wb\")\n",
                "\n",
                "workday_count <- read_excel(temp_file) %>% janitor::clean_names() %>%\n",
                "  slice(-c(1:7)) %>%\n",
                "  slice(-c(56, 57)) %>% \n",
                " rename(lsoa = x2, #rename the variables \n",
                "         name = wd102ew_population_density, \n",
                "         work_count = x3) \n",
                "\n",
                "head(workday_count)\n",
                "# head(residential_count) the previous code\n"
            ]
        },
        {
            "cell_type": "markdown",
            "metadata": {},
            "source": "\n"
        },
        {
            "cell_type": "code",
            "execution_count": null,
            "metadata": {},
            "outputs": [],
            "source": [
                "surrey_lsoa <- left_join(surrey_lsoa, workday_count, by = c(\"lsoa21cd\"=\"lsoa\"))\n",
                "\n",
                "head(surrey_lsoa)\n"
            ]
        },
        {
            "cell_type": "markdown",
            "metadata": {},
            "source": [
                "So now you've added the work population count, it time to calculate the crime rate. Follow the steps below to try and complete the activity. \n",
                "\n",
                "\n",
                "Steps: \n",
                "\n",
                "1  First calculate the crime rate \n",
                "2. Plot using ggplot \n",
                "3. Plot using tmap \n",
                "4. Plot both maps (residential and workday) together using tmap_arrange \n",
                "5. Plot a cartogram of residential population\n",
                "\n",
                "Is there a difference between the crime rate when using workday population compared to residential population? Would we expect to see these trends?\n"
            ]
        },
        {
            "cell_type": "code",
            "execution_count": null,
            "metadata": {},
            "outputs": [],
            "source": [
                "# 1) First calculate the crime rate, assign it a new variable and named it crimerate2\n",
                "\n",
                "surrey_lsoa <- surrey_lsoa %>% \n",
                "  mutate(crime_rate2 = (count/......)*...)\n",
                "\n",
                "\n",
                "#2) Plot using ggplot \n",
                "\n",
                "ggplot() + \n",
                "  annotation_map_tile() + \n",
                "  geom_sf(data = ....., aes(fill = ......), alpha = 0.5) + \n",
                "  scale_fill_gradient2(name =\"Crime Rate\")\n",
                "\n",
                "\n",
                "#3) Plot using tmap \n",
                "\n",
                "tm_shape(surrey_lsoa) + \n",
                "  tm_fill(....., style = \"quantile\") + \n",
                "  tm_borders(alpha = 0.3)\n",
                "\n",
                "\n",
                "#4) Compare the workday vs residential population \n",
                "\n",
                "e <- tm_shape(surrey_lsoa) + \n",
                "  tm_fill(....., style = \"quantile\", title = \"Workday Pop\") + \n",
                "  tm_borders(alpha = 0.3)\n",
                "\n",
                "f <- tm_shape(surrey_lsoa) + \n",
                "  tm_fill(....., style = \"quantile\", title = \"Residential pop\") + \n",
                "  tm_borders(alpha = 0.3)\n",
                "\n",
                "\n",
                "tmap_arrange(...., .....)\n",
                "\n",
                "\n",
                "\n",
                "#5) Cartogram\n",
                "\n",
                "# ggplot(.....) + \n",
                "#   geom_sf(aes(fill = ......), \n",
                "#           color = \"gray50\", \n",
                "#           linetype = 1, \n",
                "#           lwd = 0.35) + \n",
                "#   scale_fill_gradientn(colours = heat.colors(n =10, \n",
                "#                                             alpha = 0.5, \n",
                "#                                             rev = TRUE)) + \n",
                "#   theme_gray() + \n",
                "#   labs(title = \"Surrey Heath: Population by LSOA\", \n",
                "#        subtitle = \"August 2020\")\n"
            ]
        },
        {
            "cell_type": "markdown",
            "metadata": {},
            "source": [
                " \n",
                "\n",
                "\n",
                "--------------------------------------------------------------------------------------------------------------------------\n",
                "\n",
                "## TOPIC 4 - 🛰️ SPATIAL ANALYSIS 🛰️\n",
                "\n",
                "\n",
                "In this final section I will demonstrate how to run spatial interpolation (which is the process pf using points with known values to estimate values at other unknown points). We will then move on to creating heat maps in both GGPLOT2 and Leaflet. La\n",
                "\n",
                "### Load packages\n",
                "\n",
                "As always the first step is to load the necessary R packages via the library function. If you do not have these packages installed then please follow the instructions in the *Preliminary Task.Rmd* file. \n"
            ]
        },
        {
            "cell_type": "code",
            "execution_count": null,
            "metadata": {},
            "outputs": [],
            "source": [
                "# for data reading/manipulation \n",
                "library(dplyr)\n",
                "library(tidyr)\n",
                "library(readr)\n",
                "library(tibble)\n",
                "library(janitor)\n",
                "library(readxl)\n",
                "# for spatial data and gis\n",
                "library(sf)\n",
                "library(ggmap)\n",
                "library(ggplot2)\n",
                "library(ggspatial)\n",
                "library(spdep)\n",
                "library(leaflet) \n",
                "library(RColorBrewer)\n",
                "library(tmap)\n",
                "library(geojsonio)\n",
                "\n",
                "install.packages(\"zoo\")\n",
                "library(zoo) #for rolling averages\n"
            ]
        },
        {
            "cell_type": "markdown",
            "metadata": {},
            "source": [
                "### Spatial Interpolation \n",
                "\n",
                "Spatial interpolation is a statistical technique used to predict or estimate values at unsampled locations within an area covered by existing observations. It's based on the principle that spatially or temporally close points tend to have similar values—a concept known as spatial autocorrelation. In the context of crime data, spatial interpolation can be particularly useful for several reasons:\n",
                "\n",
                "*1. Fill Gaps: Estimate crime rates in areas where data are missing or not collected, providing a more complete spatial representation of crime.\n",
                "*2. Smooth Crime Rates: Generate continuous surfaces of crime rates or risk across a geographic area, helping to identify hotspots and patterns that might not be evident from discrete data points alone.\n",
                "*3. Resource Allocation: Inform law enforcement and public safety officials about potential areas of increased crime activity, aiding in strategic planning and resource allocation.\n",
                "*4. Public Information: Provide communities with detailed maps of crime risk, enhancing awareness and preventive measures.\n",
                "\n",
                "Lets explore our data. \n"
            ]
        },
        {
            "cell_type": "code",
            "execution_count": null,
            "metadata": {},
            "outputs": [],
            "source": [
                "# crime <- read_csv(\"/Users/user/Documents/Mapping_Crime_Data_R_2025/Data/crime_data/2024-02/2024-02-surrey-street.csv\") %>% janitor::clean_names()\n",
                "# \n",
                "# summary(crime)\n",
                "\n",
                "url <- \"https://raw.githubusercontent.com/UKDataServiceOpen/Mapping_Crime_Data_R_2025/main/Data/crime_data/2024-02/2024-02-surrey-street.csv\"\n",
                "crime <- read_csv(url) %>% janitor::clean_names()\n"
            ]
        },
        {
            "cell_type": "markdown",
            "metadata": {},
            "source": [
                "We know that there are 6806 observations overall, but what about just for Surrey Heath which is a boundary area within the county of Surrey. \n",
                "\n",
                "We can use filter only those crimes that have taken place in Surrey Heath by using the dplyr and stringr packages\n"
            ]
        },
        {
            "cell_type": "code",
            "execution_count": null,
            "metadata": {},
            "outputs": [],
            "source": [
                "library(stringr)\n",
                "surrey_heath_crimes <- crime %>%\n",
                "  filter(str_detect(lsoa_name, \"^Surrey Heath\"))\n",
                "\n",
                "# Explore the filtered dataset\n",
                "head(surrey_heath_crimes)\n",
                "summary(surrey_heath_crimes)\n"
            ]
        },
        {
            "cell_type": "markdown",
            "metadata": {},
            "source": [
                "This code filters the original crime dataset to keep only the records associated with LSOAs in the Surrey Heath area, based on the naming convention in the lsoa_name column, and stores this subset of data in a new variable for further analysis or operations.\n",
                "\n",
                "We can now see that there are 464 observations, that is individual crime counts, across the boundry area of Surrey Heath. \n",
                "\n",
                "We know need to group these individual crime counts by lsoas in order to obtain the aggregated statistics. This has been repeated in multiple sections so I won't expand too much here. We will create this into a new object named 'cleaned_crimes_grouped_by_lsoas' \n"
            ]
        },
        {
            "cell_type": "code",
            "execution_count": null,
            "metadata": {},
            "outputs": [],
            "source": [
                "cleaned_crimes_grouped_by_lsoa <- surrey_heath_crimes %>%\n",
                "  group_by(lsoa_code) %>%\n",
                "  summarise(count = n())\n",
                "\n",
                "# View the count of crimes by type\n",
                "cleaned_crimes_grouped_by_lsoa\n"
            ]
        },
        {
            "cell_type": "markdown",
            "metadata": {},
            "source": [
                "So what can we see? Well there are now 52 observations, in this case representing the number of LSOAs in Surrey Heath. However, if we compare this to our Shapefile of Surrey Heath, there are 55 observations which tells us there are three missing LSOAs. \n",
                "\n",
                "We can run a spatial interpolation to account for this by estimating the missing crime counts based on the average of neighboring LSOAs. \n",
                "\n",
                "Lets first identify the missing LSOA in the crime data set. We can use the setdiff() function from base R to do so...\n"
            ]
        },
        {
            "cell_type": "code",
            "execution_count": null,
            "metadata": {},
            "outputs": [],
            "source": [
                "missing_lsoas <- setdiff(shp_file$lsoa21cd, cleaned_crimes_grouped_by_lsoa$lsoa_code)\n",
                "\n"
            ]
        },
        {
            "cell_type": "markdown",
            "metadata": {},
            "source": [
                "There we go! We have identified the missing LSOA are \"E01030810\" \"E01030790\" \"E01030771\" \n",
                "In order to now run the spatial interpolation on the average of neighboring LSOAs, spatial visualization is required in order to understand if these LSOA does in fact have any neighboring LSOAs to establish a mean. This is because if the LSOA does not have any neighboring areas, we will not be able to establish a mean and therefore estimate a crime count value.\n",
                "\n",
                "We can first establish a list of neighbors where each element corresponds to a LSOA within the shapefile (shp_file) and contains the indices of neighboring LSOAS.\n"
            ]
        },
        {
            "cell_type": "code",
            "execution_count": null,
            "metadata": {},
            "outputs": [],
            "source": [
                "neighbors <- st_touches(shp_file, shp_file)\n",
                "\n"
            ]
        },
        {
            "cell_type": "markdown",
            "metadata": {},
            "source": [
                "This allows to now identify the LSOAs with no neighbors. This line uses sapply() to apply a function to each element of the neighbors list. The function checks if the length of each element (list of neighbor indices) is 0, which would indicate that an LSOA has no neighbors.\n",
                "\n"
            ]
        },
        {
            "cell_type": "code",
            "execution_count": null,
            "metadata": {},
            "outputs": [],
            "source": [
                "# Identify LSOAs with no neighbors\n",
                "no_neighbors <- sapply(neighbors, function(x) length(x) == 0)\n"
            ]
        },
        {
            "cell_type": "markdown",
            "metadata": {},
            "source": [
                "We then want to extract the indices (or IDs) of LSOAs with no neighbors and then extract the corresponding LSOAS. \n",
                "\n"
            ]
        },
        {
            "cell_type": "code",
            "execution_count": null,
            "metadata": {},
            "outputs": [],
            "source": [
                "# Extract the indices or IDs of LSOAs with no neighbors\n",
                "lsoas_no_neighbors <- which(no_neighbors)\n",
                "\n",
                "# Extract the corresponding LSOA codes or IDs\n",
                "lsoas_with_no_neighbors <- shp_file$lsoa_code[lsoas_no_neighbors]\n"
            ]
        },
        {
            "cell_type": "markdown",
            "metadata": {},
            "source": [
                "If lsoas_with_no_neighbors is empty, all LSOAs have at least one neighbor. If lsoas_with_no_neighbors contains LSOA codes or IDs, these are the LSOAs with no neighboring LSOAs within your dataset.\n",
                "\n",
                "This would mean that we know that the LSOA does in fact have neighboring areas and therefore we can run some calculations on our neighboring areas to interpolate that missing value. For each missing LSOA, we need to find neighboring LSOAs and calculate the average crime count. \n",
                "\n",
                "This function iterates over a list of LSOAs (missing_lsoas) that lack crime data. For each missing LSOA, it:\n",
                "\n",
                "*Identifies neighboring LSOAs that share a boundary with it.\n",
                "*Gathers crime counts from these neighboring LSOAs.\n",
                "*Calculates the average crime count from these neighbors.\n",
                "*Rounds this average to the nearest whole number.\n",
                "*Prints out this average for verification.\n",
                "*If the average crime count is not calculated properly (e.g., it's NA or 0), it sets a default value of 1.\n",
                "*Finally, it adds this calculated average crime count back into the dataset for the missing LSOA, effectively estimating the crime count for areas where it was originally missing\n",
                "\n",
                "This process helps fill in gaps in the dataset, ensuring each LSOA has a crime count value, which is crucial for comprehensive spatial analysis.\n"
            ]
        },
        {
            "cell_type": "code",
            "execution_count": null,
            "metadata": {},
            "outputs": [],
            "source": [
                "for(missing_lsoa in missing_lsoas) {\n",
                "    neighbors_indices <- st_touches(shp_file[shp_file$lsoa21cd == missing_lsoa, , drop = FALSE], shp_file)[[1]]\n",
                "    neighbor_lsoas <- shp_file$lsoa21cd[neighbors_indices]\n",
                "\n",
                "    # Extracting crime counts for neighboring LSOAs\n",
                "    neighbor_crime_counts <- cleaned_crimes_grouped_by_lsoa %>% \n",
                "                             filter(lsoa_code %in% neighbor_lsoas) %>%\n",
                "                             pull(count) # Use pull to extract the 'count' column as a vector\n",
                "\n",
                "    # Calculating the average crime count\n",
                "    avg_crime_count <- mean(neighbor_crime_counts, na.rm = TRUE)\n",
                "    \n",
                "    # Round the average to the nearest whole number\n",
                "    avg_crime_count_rounded <- round(avg_crime_count)\n",
                "\n",
                "    # Debug: print the average crime count to verify\n",
                "    print(paste(\"Average crime count for missing LSOA\", missing_lsoa, \":\", avg_crime_count))\n",
                "\n",
                "    # Check if avg_crime_count is not calculated properly\n",
                "    if(is.na(avg_crime_count) || avg_crime_count == 0) {\n",
                "      # Apply a different strategy or set a default value other than 0 if that makes sense in your context\n",
                "      avg_crime_count <- 1 # Example: setting a default value if mean calculation fails\n",
                "    }\n",
                "\n",
                "    # Update the dataset with the calculated average for the missing LSOA\n",
                "    cleaned_crimes_grouped_by_lsoa <- rbind(cleaned_crimes_grouped_by_lsoa, data.frame(lsoa_code = missing_lsoa, count = avg_crime_count_rounded))\n",
                "}\n",
                "\n",
                "\n",
                "class(cleaned_crimes_grouped_by_lsoa)\n"
            ]
        },
        {
            "cell_type": "markdown",
            "metadata": {},
            "source": [
                "Did you notice how the object 'cleaned_crimes_grouped_by_lsoas' has now changed from 52 observations to 55 observations. Lets see whats happened with that missing LSOA\n",
                "\n"
            ]
        },
        {
            "cell_type": "code",
            "execution_count": null,
            "metadata": {},
            "outputs": [],
            "source": [
                "cleaned_crimes_grouped_by_lsoa[55, ]\n",
                "\n"
            ]
        },
        {
            "cell_type": "markdown",
            "metadata": {},
            "source": [
                "Lets compare the previous surrey_lsoa (with the misssing lsoa data) and the surrey_lsoa_new (no missing lsoa data). Lets look at how these might be different both statistically and visually: \n",
                "\n"
            ]
        },
        {
            "cell_type": "code",
            "execution_count": null,
            "metadata": {},
            "outputs": [],
            "source": [
                "# Ensure both datasets are spatially joined to the original shapefile\n",
                "surrey_lsoa <- left_join(shp_file, crimes_grouped_by_lsoa, by = c(\"lsoa21cd\" = \"lsoa_code\"))\n",
                "surrey_lsoa_new <- left_join(shp_file, cleaned_crimes_grouped_by_lsoa, by = c(\"lsoa21cd\" = \"lsoa_code\"))\n"
            ]
        },
        {
            "cell_type": "markdown",
            "metadata": {},
            "source": [
                "\n",
                "\n"
            ]
        },
        {
            "cell_type": "code",
            "execution_count": null,
            "metadata": {},
            "outputs": [],
            "source": [
                "# Statistically Compare \n",
                "mean_original <- mean(surrey_lsoa$count, na.rm = TRUE)\n",
                "mean_imputed <- mean(surrey_lsoa_new$count)\n",
                "\n",
                "median_original <- median(surrey_lsoa$count, na.rm = TRUE)\n",
                "median_imputed <- median(surrey_lsoa_new$count)\n",
                "\n",
                "# Print the results\n",
                "cat(\"Mean Crime Count - Original Data (with missing):\", mean_original, \"\\n\")\n",
                "cat(\"Mean Crime Count - Imputed Data (no missing):\", mean_imputed, \"\\n\\n\")\n",
                "\n",
                "cat(\"Median Crime Count - Original Data (with missing):\", median_original, \"\\n\")\n",
                "cat(\"Median Crime Count - Imputed Data (no missing):\", median_imputed, \"\\n\")\n"
            ]
        },
        {
            "cell_type": "markdown",
            "metadata": {},
            "source": [
                "\n",
                "\n"
            ]
        },
        {
            "cell_type": "code",
            "execution_count": null,
            "metadata": {},
            "outputs": [],
            "source": [
                "# Visually Compare\n",
                "# Plotting the original dataset with missing value\n",
                "ggplot() +\n",
                "  geom_sf(data = surrey_lsoa, aes(fill = count), color = NA) +\n",
                "  scale_fill_viridis_c(option = \"plasma\", na.value = \"grey\", guide = guide_legend(title = \"Crime Count\")) +\n",
                "  ggtitle(\"Original Data with Missing LSOA Crime Count\") +\n",
                "  theme_minimal()\n",
                "\n",
                "# Plotting the dataset with imputed value\n",
                "ggplot() +\n",
                "  geom_sf(data = surrey_lsoa_new, aes(fill = count), color = NA) +\n",
                "  scale_fill_viridis_c(option = \"plasma\", guide = guide_legend(title = \"Crime Count\")) +\n",
                "  ggtitle(\"Imputed Data with No Missing LSOA Crime Count\") +\n",
                "  theme_minimal()\n"
            ]
        },
        {
            "cell_type": "markdown",
            "metadata": {},
            "source": [
                "## Heat Maps \n",
                "\n",
                "As I'm specifically interested in creating heatmaps of ASB across surrey heath, there is a little bit of data preparation needed. The steps are just repeated from above but they can be summarised as such:\n",
                "\n",
                "*1) filter for asb within the crime dataframe (and within surrey heath, although this is not necessary as the shapefile is from surrey heath, but i want to impute some missing values before hand) \n",
                "*2) group by lsoa and summarise the counts\n",
                "*3) find the missing lsoas\n",
                "*4) impute the missing values for the lsoas\n",
                "*5) left_join to the shapefile\n"
            ]
        },
        {
            "cell_type": "code",
            "execution_count": null,
            "metadata": {},
            "outputs": [],
            "source": [
                "# Filter for ASB within Surry Heath\n",
                "asb_data <- crime %>%\n",
                "  filter(crime_type == \"Anti-social behaviour\") %>% \n",
                "  filter(str_detect(lsoa_name, \"^Surrey Heath\"))\n",
                "\n",
                "# Group by LSOA and summarise the counts\n",
                "asb_grouped_by_lsoa <- asb_data %>%\n",
                "  group_by(lsoa_code) %>%\n",
                "  summarise(count=n())\n",
                "\n",
                "# Find the missing LSOAs\n",
                "missing_lsoas <- setdiff(shp_file$lsoa21cd, asb_grouped_by_lsoa$lsoa_code)\n",
                "\n",
                "# Impute the missing values \n",
                "for(missing_lsoa in missing_lsoas) {\n",
                "    neighbors_indices <- st_touches(shp_file[shp_file$lsoa21cd == missing_lsoa, , drop = FALSE], shp_file)[[1]]\n",
                "    neighbor_lsoas <- shp_file$lsoa21cd[neighbors_indices]\n",
                "\n",
                "    # Extracting crime counts for neighboring LSOAs\n",
                "    neighbor_crime_counts <- asb_grouped_by_lsoa %>% \n",
                "                             filter(lsoa_code %in% neighbor_lsoas) %>%\n",
                "                             pull(count) # Use pull to extract the 'count' column as a vector\n",
                "\n",
                "    # Calculating the average crime count\n",
                "    avg_crime_count <- mean(neighbor_crime_counts, na.rm = TRUE)\n",
                "    \n",
                "    # Round the average to the nearest whole number\n",
                "    avg_crime_count_rounded <- round(avg_crime_count)\n",
                "\n",
                "    # Debug: print the average crime count to verify\n",
                "    print(paste(\"Average crime count for missing LSOA\", missing_lsoa, \":\", avg_crime_count))\n",
                "\n",
                "    # Check if avg_crime_count is not calculated properly\n",
                "    if(is.na(avg_crime_count) || avg_crime_count == 0) {\n",
                "      # Apply a different strategy or set a default value other than 0 if that makes sense in your context\n",
                "      avg_crime_count <- 1 # Example: setting a default value if mean calculation fails\n",
                "    }\n",
                "\n",
                "    # Update the dataset with the calculated average for the missing LSOA\n",
                "    asb_grouped_by_lsoa <- rbind(asb_grouped_by_lsoa, data.frame(lsoa_code = missing_lsoa, count = avg_crime_count_rounded))\n",
                "}\n",
                "\n",
                "# Left_join the now cleaned data back into the shapefile\n",
                "asb_lsoa <- left_join(shp_file, asb_grouped_by_lsoa, by = c(\"lsoa21cd\" = \"lsoa_code\"))\n"
            ]
        },
        {
            "cell_type": "markdown",
            "metadata": {},
            "source": [
                "#### Using GGPPLOT2\n",
                "\n",
                "This ggplot code snippet creates a heat map visualizing the distribution of ASB incidents across LSOAs. The use of the magma color palette from viridis ensures that the visualization is both attractive and perceptually accurate, enabling viewers to easily see where ASB incidents are more or less concentrated. \n"
            ]
        },
        {
            "cell_type": "code",
            "execution_count": null,
            "metadata": {},
            "outputs": [],
            "source": [
                "ggplot(data = asb_lsoa) +\n",
                "  geom_sf(aes(fill = count), color = NA) + # geom_sf plots the spatial data, fill controls the color based on ASB count\n",
                "  scale_fill_viridis_c(option = \"magma\", direction = -1, na.value = \"white\", \n",
                "                       guide = guide_colorbar(title = \"ASB Count\")) + # Adjusts the color scale\n",
                "  labs(title = \"ASB Incidents by LSOA\", \n",
                "       subtitle = \"Visualised using ggplot2\") + \n",
                "  theme_minimal()\n"
            ]
        },
        {
            "cell_type": "markdown",
            "metadata": {},
            "source": [
                "#### Using leaflet\n",
                "\n",
                "\n",
                "This code snippet creates an interactive map using the leaflet package in R to visualize Anti-Social Behaviour (ASB) incidents across Lower Super Output Areas (LSOAs) based on the asb_lsoa dataset. The dataset is expected to be an sf object containing geometries for each LSOA and a count variable representing the number of ASB incidents in each area\n"
            ]
        },
        {
            "cell_type": "code",
            "execution_count": null,
            "metadata": {},
            "outputs": [],
            "source": [
                "# Define a color palette function based on the 'count' column\n",
                "colorPalette <- colorNumeric(palette = \"viridis\", domain = asb_lsoa$count, na.color = \"transparent\")\n",
                "\n",
                "# Create the Leaflet map\n",
                "leaflet(asb_lsoa) %>%\n",
                "  addProviderTiles(providers$CartoDB.Positron) %>% # Adds a light-themed base map\n",
                "  addPolygons(\n",
                "    fillColor = ~colorPalette(count), # Apply the color based on the 'count' column\n",
                "    weight = 1, # Border weight\n",
                "    opacity = 1, # Border opacity\n",
                "    color = \"white\", # Border color\n",
                "    fillOpacity = 0.7, # Fill opacity\n",
                "    popup = ~paste0(\"LSOA: \", lsoa21cd, \"<br>Count: \", count) # Popup content\n",
                "  ) %>%\n",
                "  addLegend(\"bottomright\", pal = colorPalette, values = ~count,\n",
                "            title = \"ASB Counts\",\n",
                "            opacity = 1)\n",
                "\n",
                "asb_lsoa <- st_transform(asb_lsoa, 4326)\n"
            ]
        },
        {
            "cell_type": "markdown",
            "metadata": {},
            "source": [
                "### Time Series Analysis \n",
                "\n",
                "After completing our spatial interpolation, we now shift our focus to analyzing trends over time for Anti-Social Behaviour (ASB) incidents across Surrey Heath.\n",
                "\n",
                "Crime patterns are rarely static, and time series analysis helps us:\n",
                "✔ Identify trends – Are ASB incidents increasing or decreasing?\n",
                "✔ Detect seasonal patterns – Do incidents peak in certain months?\n",
                "✔ Compare variations across LSOAs – Are some areas more volatile than others?\n",
                "\n",
                "What We Will Do\n",
                "In this section, we will:\n",
                "1️⃣ Load and process 12 months of ASB data dynamically.\n",
                "2️⃣ Visualize ASB trends per LSOA (messy but insightful).\n",
                "3️⃣ Aggregate ASB trends across all LSOAs for a clearer picture.\n",
                "4️⃣ Apply a rolling average to smooth fluctuations and highlight long-term trends.\n",
                "\n",
                "By the end of this section, we will have a comprehensive understanding of how ASB incidents evolve over time and how we can use temporal patterns to inform crime prevention strategies.\n",
                "\n",
                "\n",
                "### Load & Process ASB Crime Data  \n",
                "We dynamically load **12 months of crime data** from the `Data/crime_data` directory.\n"
            ]
        },
        {
            "cell_type": "code",
            "execution_count": null,
            "metadata": {},
            "outputs": [],
            "source": [
                "# Define path to the crime data folder\n",
                "#crime_data_path <- \"Data/crime_data\"\n",
                "# crime_data_path <- \"/Users/user/Documents/Mapping_Crime_Data_R_2025/Data/crime_data\"\n",
                "# \n",
                "# # List all monthly folders dynamically (last 12 months)\n",
                "# monthly_folders <- dir_ls(crime_data_path, type = \"directory\") %>% tail(12)\n",
                "# \n",
                "# # Function to read each month's crime data\n",
                "# read_crime_data <- function(folder) {\n",
                "#   file_path <- dir_ls(folder, regexp = \"surrey-street.csv$\")\n",
                "#   read_csv(file_path) %>%\n",
                "#     clean_names() %>%\n",
                "#     mutate(month = basename(folder)) # Extract folder name as new column\n",
                "# }\n",
                "# \n",
                "# # Read all crime data from the last 12 months\n",
                "# all_crime_data <- map_dfr(monthly_folders, read_crime_data)\n",
                "\n",
                "##\n",
                "library(tidyverse)\n",
                "library(fs)\n",
                "library(janitor)\n",
                "\n",
                "# Define base GitHub URL\n",
                "github_base <- \"https://raw.githubusercontent.com/UKDataServiceOpen/Mapping_Crime_Data_R_2025/main/Data/crime_data\"\n",
                "\n",
                "# List last 12 months (update as needed)\n",
                "months <- format(seq(Sys.Date(), by = \"-1 month\", length.out = 12), \"%Y-%m\")\n",
                "\n",
                "# Function to download and read each month's crime data\n",
                "read_crime_data <- function(month) {\n",
                "  file_url <- paste0(github_base, \"/\", month, \"/\", month, \"-surrey-street.csv\")\n",
                "  \n",
                "  # Temporary file to store downloaded data\n",
                "  temp_file <- tempfile(fileext = \".csv\")\n",
                "  \n",
                "  # Download the file\n",
                "  download.file(file_url, temp_file, mode = \"wb\")\n",
                "  \n",
                "  # Read the CSV file\n",
                "  read_csv(temp_file) %>%\n",
                "    clean_names() %>%\n",
                "    mutate(month = month) # Add month as a column\n",
                "}\n",
                "\n",
                "# Read and merge all crime data from the last 12 months\n",
                "all_crime_data <- map_dfr(months, possibly(read_crime_data, NULL))\n",
                "\n",
                "# View dataset\n",
                "head(all_crime_data)\n"
            ]
        },
        {
            "cell_type": "markdown",
            "metadata": {},
            "source": [
                "---\n",
                "\n",
                "### Filter & Aggregate ASB Crimes  \n",
                "We filter for **Anti-Social Behaviour** incidents in **Surrey Heath** and aggregate by **LSOA & Month**.\n"
            ]
        },
        {
            "cell_type": "code",
            "execution_count": null,
            "metadata": {},
            "outputs": [],
            "source": [
                "# Filter for ASB crimes in Surrey Heath\n",
                "asb_crime_data <- all_crime_data %>%\n",
                "  filter(crime_type == \"Anti-social behaviour\") %>%\n",
                "  filter(str_detect(lsoa_name, \"^Surrey Heath\"))\n",
                "\n",
                "# Aggregate by LSOA and Month\n",
                "asb_grouped_by_lsoa <- asb_crime_data %>%\n",
                "  mutate(year = substr(month, 1, 4), month = substr(month, 6, 7)) %>%\n",
                "  group_by(lsoa_code, year, month) %>%\n",
                "  summarise(count = n(), .groups = \"drop\") %>%\n",
                "  arrange(lsoa_code, year, month)\n",
                "\n",
                "# Create a date column for time series plotting\n",
                "asb_grouped_by_lsoa <- asb_grouped_by_lsoa %>%\n",
                "  mutate(date = as.Date(paste(year, month, \"01\", sep = \"-\")))\n"
            ]
        },
        {
            "cell_type": "markdown",
            "metadata": {},
            "source": [
                "---\n",
                " \n",
                "### **1. Individual LSOA ASB Trends** (*Messy but insightful*)  \n",
                "Each line represents a different LSOA.\n"
            ]
        },
        {
            "cell_type": "code",
            "execution_count": null,
            "metadata": {},
            "outputs": [],
            "source": [
                "# Plot individual LSOA trends\n",
                "ggplot(asb_grouped_by_lsoa, aes(x = date, y = count, group = lsoa_code)) +\n",
                "  geom_line(alpha = 0.3, color = \"gray\") +  # Faint individual lines\n",
                "  geom_smooth(method = \"loess\", se = FALSE, color = \"blue\", size = 1.2) +  # Trend line\n",
                "  labs(title = \"ASB Trends Over Time (Per LSOA)\",\n",
                "       x = \"Month\", y = \"Number of ASB Incidents\") +\n",
                "  theme_minimal()\n"
            ]
        },
        {
            "cell_type": "markdown",
            "metadata": {},
            "source": [
                "---\n",
                "\n",
                "### **2. Aggregated ASB Trends** (*Cleaner and more readable*)  \n",
                "We sum ASB counts across **all LSOAs** per month.\n"
            ]
        },
        {
            "cell_type": "code",
            "execution_count": null,
            "metadata": {},
            "outputs": [],
            "source": [
                "# Aggregate ASB count by month\n",
                "asb_trend <- asb_grouped_by_lsoa %>%\n",
                "  group_by(date) %>%\n",
                "  summarise(total_count = sum(count), .groups = \"drop\")\n",
                "\n",
                "# Plot aggregated trend\n",
                "ggplot(asb_trend, aes(x = date, y = total_count)) +\n",
                "  geom_line(color = \"blue\", size = 1.2) +  # Trend line\n",
                "  geom_point(color = \"red\", size = 2) +  # Highlight monthly points\n",
                "  labs(title = \"Aggregated ASB Trends Over Time\",\n",
                "       x = \"Month\", y = \"Total ASB Incidents\") +\n",
                "  theme_minimal()\n"
            ]
        },
        {
            "cell_type": "markdown",
            "metadata": {},
            "source": [
                "---\n",
                "\n",
                "### **3. Smoothed ASB Trend (Rolling Average)**  \n",
                "We apply a **3-month rolling average** to smooth fluctuations.\n"
            ]
        },
        {
            "cell_type": "code",
            "execution_count": null,
            "metadata": {},
            "outputs": [],
            "source": [
                "# Add 3-month rolling average\n",
                "asb_trend <- asb_trend %>%\n",
                "  mutate(rolling_avg = rollmean(total_count, k = 3, fill = NA, align = \"right\"))\n",
                "\n",
                "# Plot rolling average trend\n",
                "ggplot(asb_trend, aes(x = date)) +\n",
                "  geom_line(aes(y = total_count), color = \"lightblue\", size = 1) +  # Raw data\n",
                "  geom_line(aes(y = rolling_avg), color = \"blue\", size = 1.5) +  # Smoothed trend\n",
                "  geom_point(aes(y = total_count), color = \"red\", size = 2) +\n",
                "  labs(title = \"Aggregated ASB Trends with Rolling Average\",\n",
                "       x = \"Month\", y = \"Total ASB Incidents\") +\n",
                "  theme_minimal()\n"
            ]
        },
        {
            "cell_type": "markdown",
            "metadata": {},
            "source": [
                "#### Optional Activity \n",
                "\n",
                "Compare the heat maps now using the ASB data WITH the missing values. Follow the steps below by first preparing your dataset and then making the plots. \n",
                "\n",
                "*1) Filter for just ASB within Surrey Heath \n"
            ]
        },
        {
            "cell_type": "code",
            "execution_count": null,
            "metadata": {},
            "outputs": [],
            "source": [
                "asb_data2 <- crime %>%\n",
                "  filter(.... == \"Anti-social behaviour\") %>% \n",
                "  filter(str_detect(...., \"^Surrey Heath\"))\n"
            ]
        },
        {
            "cell_type": "markdown",
            "metadata": {},
            "source": [
                "*2) Group by LSOA and summarise the crime count\n",
                "\n"
            ]
        },
        {
            "cell_type": "code",
            "execution_count": null,
            "metadata": {},
            "outputs": [],
            "source": [
                "asb_grouped_by_lsoa2 <- asb_data %>%\n",
                "  group_by(.....) %>%\n",
                "  summarise(.....=n())\n"
            ]
        },
        {
            "cell_type": "markdown",
            "metadata": {},
            "source": [
                "*3) Left_join the new grouped ASB dataset to the shapefile\n",
                "\n",
                "Remember we are skipping the imputation method here as we want to see the affect of including missing values into our maps. So go ahead and simply join the grouped data to the shapefile\n"
            ]
        },
        {
            "cell_type": "code",
            "execution_count": null,
            "metadata": {},
            "outputs": [],
            "source": [
                "asb_lsoa_missing <- left_join(...., ...., by = c(\"lsoa21cd\" = \"lsoa_code\"))\n",
                "\n"
            ]
        },
        {
            "cell_type": "markdown",
            "metadata": {},
            "source": [
                "*4) Now plot with ggplot \n",
                "\n"
            ]
        },
        {
            "cell_type": "code",
            "execution_count": null,
            "metadata": {},
            "outputs": [],
            "source": [
                "ggplot(data = ...) +\n",
                "  geom_sf(aes(fill = ...elt()), color = NA) + \n",
                "  scale_fill_viridis_c(option = \"magma\", direction = -1, na.value = \"white\", \n",
                "                       guide = guide_colorbar(title = \"ASB Count\")) + # Adjusts the color scale\n",
                "  labs(title = \"ASB Incidents by LSOA\", \n",
                "       subtitle = \"Visualised using ggplot2\") + \n",
                "  theme_minimal()\n"
            ]
        },
        {
            "cell_type": "markdown",
            "metadata": {},
            "source": [
                "*5) Now plot with leaflet \n",
                "\n"
            ]
        },
        {
            "cell_type": "code",
            "execution_count": null,
            "metadata": {},
            "outputs": [],
            "source": [
                "# Define a color palette function based on the 'count' column\n",
                "colorPalette <- colorNumeric(palette = \"viridis\", domain = asb_lsoa_missing$count, na.color = \"transparent\")\n",
                "\n",
                "# remember to first transform the object into the correct CRS\n",
                "asb_lsoa_missing <- .....(asb_lsoa_missing, ....)\n",
                "\n",
                "# Create the Leaflet map\n",
                "leaflet(....) %>%\n",
                "  addProviderTiles(providers$CartoDB.Positron) %>% # Adds a light-themed base map\n",
                "  addPolygons(\n",
                "    fillColor = ~colorPalette(count), \n",
                "    weight = 1, # Border weight\n",
                "    opacity = 1, # Border opacity\n",
                "    color = \"white\", # Border color\n",
                "    fillOpacity = 0.7, # Fill opacity\n",
                "    popup = ~paste0(\"LSOA: \", lsoa21cd, \"<br>Count: \", count) \n",
                "  ) %>%\n",
                "  addLegend(\"bottomright\", pal = colorPalette, values = ~count,\n",
                "            title = \"ASB Counts\",\n",
                "            opacity = 1)\n"
            ]
        },
        {
            "cell_type": "markdown",
            "metadata": {},
            "source": [
                "--------------------------------------------------------------------------------------------------------------------------\n",
                "\n",
                "## 📚 ADDITIONAL TOPICS 📚 \n",
                "\n",
                "\n",
                "## Load packages \n"
            ]
        },
        {
            "cell_type": "code",
            "execution_count": null,
            "metadata": {},
            "outputs": [],
            "source": [
                "knitr::opts_chunk$set(echo = TRUE)\n",
                "\n",
                "# for data reading/manipulation \n",
                "library(dplyr)\n",
                "library(tidyr)\n",
                "library(readr)\n",
                "library(tibble)\n",
                "library(janitor)\n",
                "library(readxl)\n",
                "# for spatial data and gis\n",
                "library(sf)\n",
                "library(ggmap)\n",
                "library(ggplot2)\n",
                "library(ggspatial)\n",
                "library(ggspatial)\n",
                "library(spdep)\n",
                "library(leaflet) \n",
                "library(RColorBrewer)\n",
                "library(tmap)\n",
                "library(geojsonio)\n"
            ]
        },
        {
            "cell_type": "markdown",
            "metadata": {},
            "source": [
                "## Explore the data using ggmap and ggplot (Google API)\n",
                "\n",
                "### Setting up a an API \n",
                "\n",
                "Setting up a connetion to Google's API;\n",
                "\n",
                "1. First: set up an account with Google.\n",
                "\n",
                "2. Second: to obtain an API go to [https://cloud.google.com/maps-platform/] and follow the onscreen instructions. This documentation shows you how to input the requisite information (e.g. your API key) into R, and it also shows you a few tools that can help you work with the credentialing. In summary the onscreen instructions are as follows. \n",
                " - click 'get started' \n",
                " - click the credentials tab on the left hand side of the screen \n",
                " - click 'create credentials at the top of the screen (visible by the '+' symbol)\n",
                " - Select 'API key'\n",
                " - Select copy and now you have your personal API key \n",
                " \n",
                " \n",
                " *You will be asked to set up a billing account but you will not need to pay to follow along with the below steps. Google Cloud has a limited amount of free storage (200 dollars free a month) so remember to always check your storage use and the usage cost under the 'cost breakdown' panel.*\n",
                " \n",
                "\n",
                "3. To authorise the API you have to enable some of Google's API which are required for the project. This includes \n",
                "- Google Maps JavaScript API\n",
                "- Google Maps Geocoding API\n",
                "- Google Maps Geolocation API\n",
                "- Google Maps Places API\n",
                "- Google Maps Static API\n",
                "\n",
                "If you do not authorise the above API you will recieve and error message as such \"Geocoding Service: This API project is not authorised to use the API\". To authorise said APIs go to \n",
                "a. https://console.cloud.google.com/apis/dashboard?project=missing-314119\n",
                "b. Click '+ Enable APIS and SERVICES' at the top of the screen\n",
                "c. Search for each API listed above and click the 'Enable button' \n",
                "\n",
                "Once all APIs are enabled, wait 5 minutes for changes to take place, and then move on to the next step to register your Google API to ggmaps. \n",
                "\n",
                "\n",
                "4. Third; you need to tell ggmap about your API by using the 'register_google()' function. It would look something like *register_google(key = \"hahfuibfiu324898249dbhsgag\")* (this is a fake key). This will then set your API key for the current session, Every time you restart R you will have to request a new API key or you can set it permanently by adding 'write = TRUE', the full code being....\n",
                "\n",
                "*register_google(key = \"[your key]\", write = TRUE)*\n",
                "\n",
                "For more information on how to register your decive to the Google API please visit [https://rdrr.io/cran/ggmap/man/register_google.html]. It is incredibly important to not that each API is private and should not be shared with anyone. Users should also be aware that ggmap has no mechanism with which to safeguard the private key once registered with R. \n",
                "\n",
                "The basic idea driving ggmap is to take a downloaded map image, plot it as a context layer using ggplot2, and then plot additional content layers of data, statistics, or models on top of the map. In ggmap, downloading a map as an image and formatting the image for plotting is done with the get_map function. More specifically, the get_map is a wrapper function\n",
                "\n",
                "It is important to note that when using ggmap, users have to first setup an account with Google, enable the relevant API, and then tell R about the user's setup. Do not worry about doing this for this workshop as we will demonstrate the code below. If you would like to run this in your own time then please refer to the steps above which details how to obtain your API and how to enable the services. \n",
                "\n",
                "\n",
                "### For one specific area\n"
            ]
        },
        {
            "cell_type": "code",
            "execution_count": null,
            "metadata": {},
            "outputs": [],
            "source": [
                "# ## Ariel Map of Surrey\n",
                "qmplot(longitude, latitude, data = crime, colour = crime_type, size = I(3), darken = .3)\n",
                "# \n",
                "\n",
                "# ## Lets just say you were interested in a specific area (in this example we will use Crawley 002B)\n",
                "# \n",
                "# ## Ariel Map of Crawley 002B\n",
                " geocode(\"Crawley\")\n",
                "# \n",
                "\n",
                "Crawley <- c(long = -0.152210, lat = 51.15813)\n",
                "map <- get_map(Crawley, zoom = 13, scale = 1)\n",
                "ggmap(map)\n",
                "# \n",
                "ggmap(map) +\n",
                "  geom_point(aes(longitude, latitude), data = crime) \n",
                "# \n",
                "# \n",
                "# ## Colour the Crime Type\n",
                "# \n",
                "\n",
                "ggmap(map) +\n",
                "   geom_point(aes(longitude, latitude, colour = crime_type), data = crime) \n",
                "\n",
                "# \n",
                "\n",
                " ggmap(map) +\n",
                "   geom_point(aes(longitude, latitude, size = crime_type, colour = crime_type), data = crime) \n"
            ]
        },
        {
            "cell_type": "markdown",
            "metadata": {},
            "source": [
                "### For one specific crime type \n",
                "\n"
            ]
        },
        {
            "cell_type": "code",
            "execution_count": null,
            "metadata": {},
            "outputs": [],
            "source": [
                "#subset for just ASB\n",
                "subset <- crime[which(crime$crime_type == \"Anti-social behaviour\"),]\n",
                "\n",
                "#Create the crawley map again \n",
                "map <- ggmap(get_googlemap(center = c(long = -0.152210, lat = 51.15813), \n",
                "                           zoom = 10, \n",
                "                           maptype = \"terrain\", \n",
                "                           color = \"color\"))\n",
                "#print the map\n",
                "print(map)\n",
                "\n",
                "\n",
                "#overlay the crime data \n",
                "map <- ggmap(get_googlemap(center = c(long = -0.631027, lat = 51.215485), \n",
                "                           zoom = 9, \n",
                "                           maptype = \"terrain\", \n",
                "                           color = \"color\")) +\n",
                "  geom_point(data = subset, aes(x = longitude, y = latitude), \n",
                "             colour = \"red\", size = .5)\n",
                "\n",
                "#print \n",
                "print(map)\n",
                "\n",
                "\n",
                "#lets make a density map using ggplot\n",
                "map <- ggmap(get_googlemap(center = c(long = -0.152210, lat = 51.15813), \n",
                "                           zoom = 9, \n",
                "                           maptype = \"terrain\", \n",
                "                           color = \"color\")) +\n",
                "  stat_density2d(aes(x = longitude, y = latitude, fill = ..level..), \n",
                "               alpha = .2, \n",
                "               bins = 10, data = subset, geom = \"polygon\")\n",
                "\n",
                "\n",
                "print(map)\n"
            ]
        },
        {
            "cell_type": "markdown",
            "metadata": {},
            "source": [
                "### Binning data\n",
                "\n",
                "Binning, can be thought of as a two-dimensional histogram (shading of the bins take the heights of the bars). You first need to convert the sf data.frame geometry column into a data.frame with separate x, y columns. \n",
                "\n",
                "How do you separate the coordinates? \n",
                "\n",
                "Luckily a function to do this already exists [https://github.com/r-spatial/sf/issues/231]. The below code is converting a sfc_point to seperate x, y columns \n"
            ]
        },
        {
            "cell_type": "code",
            "execution_count": null,
            "metadata": {},
            "outputs": [],
            "source": [
                "sfc_as_cols <- function(x, names = c(\"x\",\"y\")) {\n",
                "  stopifnot(inherits(x,\"sf\") && inherits(sf::st_geometry(x),\"sfc_POINT\"))\n",
                "  ret <- sf::st_coordinates(x)\n",
                "  ret <- tibble::as_tibble(ret)\n",
                "  stopifnot(length(names) == raster::ncol(ret))\n",
                "  x <- x[ , !names(x) %in% names]\n",
                "  ret <- setNames(ret,names)\n",
                "  dplyr::bind_cols(x,ret)\n",
                "}\n",
                "\n",
                "sf_seperate <- sfc_as_cols(sf, c(\"lng\", \"lat\")) \n",
                "\n",
                "\n",
                "ggplot(sf_seperate, aes(lng, lat)) +   \n",
                "  annotation_map_tile() +\n",
                "  stat_binhex(bins = 30) +                                           \n",
                "  scale_fill_gradientn(colours = c(\"white\",\"red\"), name = \"Frequency\")   \n",
                "\n",
                "\n",
                "#hexagonal = stat_binhex() \n",
                "#rectangle = stat_bin2d()\n",
                "#heat = stat_density2d()  \n"
            ]
        },
        {
            "cell_type": "markdown",
            "metadata": {},
            "source": [
                "### Interactive Maps; Leaflet\n",
                "\n",
                "Leaflet is one of the most popular open-source JavaScript libraries for interactive maps. For more information you can view this link here [https://rstudio.github.io/leaflet/]\n"
            ]
        },
        {
            "cell_type": "code",
            "execution_count": null,
            "metadata": {},
            "outputs": [],
            "source": [
                "## Subsetting for just ASB \n",
                "asb <- subset(crime, crime_type == \"Anti-social behaviour\")\n",
                "\n",
                "m <- leaflet(data = asb) %>%\n",
                "  addProviderTiles(\"Stamen.Toner\") %>% \n",
                "  addMarkers(lng=~longitude, lat=~latitude, popup=~as.character(location), label = ~as.character(location))\n",
                "m\n"
            ]
        },
        {
            "cell_type": "markdown",
            "metadata": {},
            "source": [
                "### Other imporant functions \n",
                "\n",
                "- Jittering: \n",
                "\n",
                "Jittering indeed means just adding random noise to a vector of numeric values, by default this is done in jitter-function by drawing samples from the uniform distribution. The range of values in the jittering is chosen according to the data, if amount-parameter is not provided. It helps to grasp where the density of observations is high. \n",
                "\n",
                "There are a few packages that offer this method including the 'geom_jitter' function found in the ggplot2 package [https://ggplot2.tidyverse.org/reference/geom_jitter.htm]. Additionally, the 'rjitter' function under the spatsat package. The function rjitter is generic, with methods for point patterns (described here) and for some other types of geometrical objects. Each of the points in the point pattern X is subjected to an independent random displacement. More information can be found here; [https://rdrr.io/cran/spatstat.geom/man/rjitter.html]\n",
                "\n",
                "-  st_intersect():\n",
                "\n",
                "This function is also under the sf package and is used to intersect two objects between two sets of objects. More information can be found here [https://r-spatial.github.io/sf/reference/geos_binary_ops.htm]\n",
                "\n",
                "\n",
                "\n",
                "## 🎉 THANK YOU FOR PARTICIPATING! 🎉\n",
                "\n",
                "We appreciate your time and effort in completing the **Crime Mapping in R Workshop**.  \n",
                "We hope you found the hands-on exercises and analyses insightful and useful for your research or projects.\n",
                "\n",
                "If you have any questions, feedback, or would like to stay connected, feel free to reach out! 📩  \n",
                "\n",
                "\n",
                "### 📩 CONTACT DETAILS\n",
                "\n",
                "**Workshop Instructor:** Nadia Kennar  \n",
                "📧 **Email:** [nadia.kennar@manchester.ac.uk]  \n",
                "🌐 **GitHub Repository:** [Crime Mapping in R - GitHub](https://github.com/UKDataServiceOpen/Mapping_Crime_Data_R_2025)  \n",
                " \n",
                "\n",
                "### REFERENCES\n",
                "\n",
                "Below are the key references and data sources used throughout this workshop:\n",
                "\n",
                "- **UK Crime Data Source**: [Police API & Open Data](https://data.police.uk/)  \n",
                "- **UK Census Data**: [Office for National Statistics (ONS)](https://www.ons.gov.uk/)  \n",
                "- **Spatial Analysis in R**: [Simple Features for R (`sf` package)](https://r-spatial.github.io/sf/articles/sf1.html)  \n",
                "- **Crime Mapping Techniques**: [GIS & Crime Mapping Research Paper](https://www.researchgate.net/publication/CrimeMapping)  \n",
                "- **Leaflet for R**: [Interactive Mapping Documentation](https://rstudio.github.io/leaflet/)  \n",
                "\n",
                "---\n",
                "\n",
                "### Want to Keep Learning?\n",
                "If you're interested in further developing your GIS, spatial analysis, and R skills, here are some additional resources:  \n",
                "\n",
                "- 📖 **Book:** \"Geocomputation with R\" - [Link](https://geocompr.robinlovelace.net/)  \n",
                "- 🎥 **Videos & Tutorials:** [R Spatial Analysis YouTube Series](https://www.youtube.com/watch?v=xyz123)  \n",
                "- 💡 **Online Courses:** Coursera GIS & R Programming for Spatial Data  \n",
                "\n",
                "\n",
                "###  **NEXT STEPS**\n",
                "- Feel free to explore the **additional topics** section for more advanced spatial analysis techniques.  \n",
                "- If you want to apply what you’ve learned, try **analyzing your own crime or census dataset**!  \n",
                "- Let us know what you think—your feedback helps improve future workshops!  \n",
                "\n",
                "👋 **Thank you once again, and happy mapping!** 🗺️\n"
            ]
        }
    ],
    "metadata": {
        "anaconda-cloud": "",
        "kernelspec": {
            "display_name": "R",
            "langauge": "R",
            "name": "ir"
        },
        "language_info": {
            "codemirror_mode": "r",
            "file_extension": ".r",
            "mimetype": "text/x-r-source",
            "name": "R",
            "pygments_lexer": "r",
            "version": "3.4.1"
        }
    },
    "nbformat": 4,
    "nbformat_minor": 1
}
